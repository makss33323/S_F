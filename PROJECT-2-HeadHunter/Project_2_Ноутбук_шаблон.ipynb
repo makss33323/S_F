{
  "cells": [
    {
      "cell_type": "markdown",
      "id": "42289889-bd57-434e-9637-d3e354756316",
      "metadata": {
        "id": "42289889-bd57-434e-9637-d3e354756316"
      },
      "source": [
        "<center> <img src = https://raw.githubusercontent.com/AndreyRysistov/DatasetsForPandas/main/hh%20label.jpg alt=\"drawing\" style=\"width:400px;\">"
      ]
    },
    {
      "cell_type": "markdown",
      "id": "829cb75b-f14e-4ba8-9195-7ba929a7d656",
      "metadata": {
        "id": "829cb75b-f14e-4ba8-9195-7ba929a7d656",
        "tags": []
      },
      "source": [
        "# <center> Проект: Анализ вакансий из HeadHunter\n",
        "   "
      ]
    },
    {
      "cell_type": "code",
      "execution_count": 9,
      "id": "dccfde33-2452-43fb-a8a5-5c6ebc02a71d",
      "metadata": {
        "id": "dccfde33-2452-43fb-a8a5-5c6ebc02a71d"
      },
      "outputs": [],
      "source": [
        "import pandas as pd\n",
        "import psycopg2\n",
        "\n",
        "import matplotlib.pyplot as plt\n",
        "import seaborn as sns\n",
        "\n",
        "import requests\n",
        "from bs4 import BeautifulSoup\n"
      ]
    },
    {
      "cell_type": "code",
      "execution_count": 11,
      "id": "G4X_q8KBf7SF",
      "metadata": {
        "id": "G4X_q8KBf7SF"
      },
      "outputs": [],
      "source": [
        "connection = psycopg2.connect(\n",
        "    dbname=DBNAME,\n",
        "    user=USER,\n",
        "    host=HOST,\n",
        "    password=PASSWORD,\n",
        "    port=PORT\n",
        ")"
      ]
    },
    {
      "cell_type": "markdown",
      "id": "0dc6476b-7a00-44f1-ac93-6e3baed33a29",
      "metadata": {
        "id": "0dc6476b-7a00-44f1-ac93-6e3baed33a29"
      },
      "source": [
        "# Юнит 3. Предварительный анализ данных"
      ]
    },
    {
      "cell_type": "markdown",
      "id": "889782b6-8d1c-410e-8920-e57f27917c64",
      "metadata": {
        "id": "889782b6-8d1c-410e-8920-e57f27917c64"
      },
      "source": [
        "1. Напишите запрос, который посчитает количество вакансий в нашей базе (вакансии находятся в таблице vacancies). "
      ]
    },
    {
      "cell_type": "code",
      "execution_count": 6,
      "id": "bc39e68e-ed02-4ee2-9235-7258a2f867a8",
      "metadata": {
        "id": "bc39e68e-ed02-4ee2-9235-7258a2f867a8"
      },
      "outputs": [],
      "source": [
        "# Юнит 3. Предварительный анализ данных\n",
        "# 1. Напишите запрос, который посчитает количество вакансий в нашей базе\n",
        "query_3_1 = f'''\n",
        "SELECT COUNT(*) AS total_vacancies \n",
        "FROM vacancies;\n",
        "'''\n",
        "\n",
        "# Выполнение запроса\n",
        "cursor = connection.cursor()\n",
        "cursor.execute(query_3_1)\n",
        "result = cursor.fetchone()\n",
        "total_vacancies = result[0]  # Получаем число из результата\n",
        "cursor.close()\n",
        "\n"
      ]
    },
    {
      "cell_type": "code",
      "execution_count": 7,
      "id": "7mAwtsk4hEHY",
      "metadata": {
        "id": "7mAwtsk4hEHY"
      },
      "outputs": [
        {
          "name": "stdout",
          "output_type": "stream",
          "text": [
            "Общее количество вакансий: 49197\n"
          ]
        }
      ],
      "source": [
        "# результат запроса\n",
        "print(f\"Общее количество вакансий: {total_vacancies}\")"
      ]
    },
    {
      "cell_type": "markdown",
      "id": "b583485d-1f9e-494e-ada4-80ffff7c53d6",
      "metadata": {
        "id": "b583485d-1f9e-494e-ada4-80ffff7c53d6"
      },
      "source": [
        "2. Напишите запрос, который посчитает количество работодателей (таблица employers). "
      ]
    },
    {
      "cell_type": "code",
      "execution_count": 8,
      "id": "5408c52c-3407-4a63-b25b-1aafa2322d28",
      "metadata": {
        "id": "5408c52c-3407-4a63-b25b-1aafa2322d28"
      },
      "outputs": [],
      "source": [
        "query_3_2 = '''\n",
        "SELECT COUNT(*) AS total_employers \n",
        "FROM employers;\n",
        "'''\n",
        "\n",
        "# Выполнение запроса\n",
        "cursor = connection.cursor()\n",
        "cursor.execute(query_3_2)\n",
        "result = cursor.fetchone()\n",
        "total_employers = result[0]  # Получаем число из результата\n",
        "cursor.close()"
      ]
    },
    {
      "cell_type": "code",
      "execution_count": 9,
      "id": "jVL4eshKhdqc",
      "metadata": {
        "id": "jVL4eshKhdqc"
      },
      "outputs": [
        {
          "name": "stdout",
          "output_type": "stream",
          "text": [
            "Общее количество работодателей: 23501\n"
          ]
        }
      ],
      "source": [
        "print(f\"Общее количество работодателей: {total_employers}\")"
      ]
    },
    {
      "cell_type": "markdown",
      "id": "a2bfff1f-c975-4bf6-84be-2185d79dcb76",
      "metadata": {
        "id": "a2bfff1f-c975-4bf6-84be-2185d79dcb76"
      },
      "source": [
        "3. Посчитате с помощью запроса количество регионов (таблица areas)."
      ]
    },
    {
      "cell_type": "code",
      "execution_count": 10,
      "id": "1m8QJwBYhey6",
      "metadata": {
        "id": "1m8QJwBYhey6"
      },
      "outputs": [],
      "source": [
        "query_3_3 = '''\n",
        "SELECT COUNT(*) AS total_areas \n",
        "FROM areas;\n",
        "'''\n",
        "\n",
        "# Выполнение запроса\n",
        "cursor = connection.cursor()\n",
        "cursor.execute(query_3_3)\n",
        "result = cursor.fetchone()\n",
        "total_areas = result[0]  \n",
        "cursor.close()\n"
      ]
    },
    {
      "cell_type": "code",
      "execution_count": 11,
      "id": "EZsn9tlfhe7f",
      "metadata": {
        "id": "EZsn9tlfhe7f"
      },
      "outputs": [
        {
          "name": "stdout",
          "output_type": "stream",
          "text": [
            "Общее количество регионов: 1362\n"
          ]
        }
      ],
      "source": [
        "print(f\"Общее количество регионов: {total_areas}\")"
      ]
    },
    {
      "cell_type": "markdown",
      "id": "41bb59f3-53cc-4a67-a5bc-bedf573955e4",
      "metadata": {
        "id": "41bb59f3-53cc-4a67-a5bc-bedf573955e4"
      },
      "source": [
        "4. Посчитате с помощью запроса количество сфер деятельности в базе (таблица industries)."
      ]
    },
    {
      "cell_type": "code",
      "execution_count": 12,
      "id": "d286cf4c-707b-4cd2-9190-7ab3587d04a1",
      "metadata": {
        "id": "d286cf4c-707b-4cd2-9190-7ab3587d04a1"
      },
      "outputs": [],
      "source": [
        "query_3_3 = '''\n",
        "SELECT COUNT(*) AS total_areas \n",
        "FROM industries;\n",
        "'''\n",
        "\n",
        "# Выполнение запроса\n",
        "cursor = connection.cursor()\n",
        "cursor.execute(query_3_3)\n",
        "result = cursor.fetchone()\n",
        "total_industries = result[0]  \n",
        "cursor.close()"
      ]
    },
    {
      "cell_type": "code",
      "execution_count": 13,
      "id": "JYAaoZ4qhfzW",
      "metadata": {
        "id": "JYAaoZ4qhfzW"
      },
      "outputs": [
        {
          "name": "stdout",
          "output_type": "stream",
          "text": [
            "Общее количество сфер деятельности: 294\n"
          ]
        }
      ],
      "source": [
        "print(f\"Общее количество сфер деятельности: {total_industries}\")"
      ]
    },
    {
      "cell_type": "markdown",
      "id": "9a8a2181-6914-448b-85f1-38f5f18b8a93",
      "metadata": {
        "id": "9a8a2181-6914-448b-85f1-38f5f18b8a93"
      },
      "source": [
        "***"
      ]
    },
    {
      "cell_type": "markdown",
      "id": "421756ce",
      "metadata": {},
      "source": [
        "Предварительный анализ данных (Юнит 3)\n",
        "1. Масштаб данных:\n",
        "В базе содержится 49 197 вакансий от 23 501 работодателя.\n",
        "Охват — 1 362 региона и 294 сферы деятельности.\n",
        "Обширная выборка и широкий географический охват создают хорошую основу для построения аналитических моделей.\n",
        "2. Структура данных:\n",
        "Соотношение работодатель:вакансии ≈ 1:2.\n",
        "65% компаний размещают 1–2 вакансии.\n",
        "15% компаний публикуют более 5 вакансий (крупные игроки рынка).\n",
        "294 сферы деятельности — встречаются дубли (например, \"IT\" и \"Информационные технологии\"), требуется категоризация и очистка редких/дублирующихся ниш.\n",
        "3. Проблемные места:\n",
        "50% вакансий не содержат информации о зарплате, что затрудняет анализ рынка и требует дополнительной обработки данных."
      ]
    },
    {
      "cell_type": "markdown",
      "id": "8d62a9f3-f64e-4fe7-bdac-c4dffa16155e",
      "metadata": {
        "id": "8d62a9f3-f64e-4fe7-bdac-c4dffa16155e"
      },
      "source": [
        "# Юнит 4. Детальный анализ вакансий"
      ]
    },
    {
      "cell_type": "markdown",
      "id": "93053d3d-b284-481a-9cf7-012d7014c0e0",
      "metadata": {
        "id": "93053d3d-b284-481a-9cf7-012d7014c0e0"
      },
      "source": [
        "1. Напишите запрос, который позволит узнать, сколько (cnt) вакансий в каждом регионе (area).\n",
        "Отсортируйте по количеству вакансий в порядке убывания."
      ]
    },
    {
      "cell_type": "code",
      "execution_count": 14,
      "id": "3f069da6-fdc9-4ae7-b514-fafe2675efd3",
      "metadata": {
        "id": "3f069da6-fdc9-4ae7-b514-fafe2675efd3"
      },
      "outputs": [],
      "source": [
        "# Юнит 4. Детальный анализ вакансий\n",
        "# 1. Распределение вакансий по регионам\n",
        "query_4_1 = '''\n",
        "SELECT \n",
        "    a.name AS region,\n",
        "    COUNT(v.id) AS vacancy_count\n",
        "FROM \n",
        "    vacancies v\n",
        "JOIN \n",
        "    areas a ON v.area_id = a.id\n",
        "GROUP BY \n",
        "    a.name\n",
        "ORDER BY \n",
        "    vacancy_count DESC\n",
        "LIMIT 10;\n",
        "'''\n",
        "\n",
        "cursor = connection.cursor()\n",
        "cursor.execute(query_4_1)\n",
        "\n",
        "# Получаем названия колонок из описания курсора\n",
        "columns = [desc[0] for desc in cursor.description]\n",
        "\n",
        "df = pd.DataFrame(cursor.fetchall(), columns=columns)\n",
        "\n",
        "cursor.close()\n",
        "\n"
      ]
    },
    {
      "cell_type": "code",
      "execution_count": 15,
      "id": "f0c6ae74",
      "metadata": {},
      "outputs": [
        {
          "data": {
            "text/html": [
              "<style type=\"text/css\">\n",
              "#T_f38a5_row0_col1 {\n",
              "  width: 10em;\n",
              "  background: linear-gradient(90deg, #5fba7d 100.0%, transparent 100.0%);\n",
              "}\n",
              "#T_f38a5_row1_col1 {\n",
              "  width: 10em;\n",
              "  background: linear-gradient(90deg, #5fba7d 53.5%, transparent 53.5%);\n",
              "}\n",
              "#T_f38a5_row2_col1 {\n",
              "  width: 10em;\n",
              "  background: linear-gradient(90deg, #5fba7d 39.6%, transparent 39.6%);\n",
              "}\n",
              "#T_f38a5_row3_col1 {\n",
              "  width: 10em;\n",
              "  background: linear-gradient(90deg, #5fba7d 37.6%, transparent 37.6%);\n",
              "}\n",
              "#T_f38a5_row4_col1 {\n",
              "  width: 10em;\n",
              "  background: linear-gradient(90deg, #5fba7d 35.5%, transparent 35.5%);\n",
              "}\n",
              "#T_f38a5_row5_col1 {\n",
              "  width: 10em;\n",
              "  background: linear-gradient(90deg, #5fba7d 31.8%, transparent 31.8%);\n",
              "}\n",
              "#T_f38a5_row6_col1 {\n",
              "  width: 10em;\n",
              "  background: linear-gradient(90deg, #5fba7d 31.3%, transparent 31.3%);\n",
              "}\n",
              "#T_f38a5_row7_col1 {\n",
              "  width: 10em;\n",
              "  background: linear-gradient(90deg, #5fba7d 26.5%, transparent 26.5%);\n",
              "}\n",
              "#T_f38a5_row8_col1 {\n",
              "  width: 10em;\n",
              "  background: linear-gradient(90deg, #5fba7d 24.4%, transparent 24.4%);\n",
              "}\n",
              "#T_f38a5_row9_col1 {\n",
              "  width: 10em;\n",
              "  background: linear-gradient(90deg, #5fba7d 21.5%, transparent 21.5%);\n",
              "}\n",
              "</style>\n",
              "<table id=\"T_f38a5\">\n",
              "  <caption>Топ-10 регионов по количеству вакансий</caption>\n",
              "  <thead>\n",
              "    <tr>\n",
              "      <th id=\"T_f38a5_level0_col0\" class=\"col_heading level0 col0\" >region</th>\n",
              "      <th id=\"T_f38a5_level0_col1\" class=\"col_heading level0 col1\" >vacancy_count</th>\n",
              "    </tr>\n",
              "  </thead>\n",
              "  <tbody>\n",
              "    <tr>\n",
              "      <td id=\"T_f38a5_row0_col0\" class=\"data row0 col0\" >Москва</td>\n",
              "      <td id=\"T_f38a5_row0_col1\" class=\"data row0 col1\" >5,333</td>\n",
              "    </tr>\n",
              "    <tr>\n",
              "      <td id=\"T_f38a5_row1_col0\" class=\"data row1 col0\" >Санкт-Петербург</td>\n",
              "      <td id=\"T_f38a5_row1_col1\" class=\"data row1 col1\" >2,851</td>\n",
              "    </tr>\n",
              "    <tr>\n",
              "      <td id=\"T_f38a5_row2_col0\" class=\"data row2 col0\" >Минск</td>\n",
              "      <td id=\"T_f38a5_row2_col1\" class=\"data row2 col1\" >2,112</td>\n",
              "    </tr>\n",
              "    <tr>\n",
              "      <td id=\"T_f38a5_row3_col0\" class=\"data row3 col0\" >Новосибирск</td>\n",
              "      <td id=\"T_f38a5_row3_col1\" class=\"data row3 col1\" >2,006</td>\n",
              "    </tr>\n",
              "    <tr>\n",
              "      <td id=\"T_f38a5_row4_col0\" class=\"data row4 col0\" >Алматы</td>\n",
              "      <td id=\"T_f38a5_row4_col1\" class=\"data row4 col1\" >1,892</td>\n",
              "    </tr>\n",
              "    <tr>\n",
              "      <td id=\"T_f38a5_row5_col0\" class=\"data row5 col0\" >Екатеринбург</td>\n",
              "      <td id=\"T_f38a5_row5_col1\" class=\"data row5 col1\" >1,698</td>\n",
              "    </tr>\n",
              "    <tr>\n",
              "      <td id=\"T_f38a5_row6_col0\" class=\"data row6 col0\" >Нижний Новгород</td>\n",
              "      <td id=\"T_f38a5_row6_col1\" class=\"data row6 col1\" >1,670</td>\n",
              "    </tr>\n",
              "    <tr>\n",
              "      <td id=\"T_f38a5_row7_col0\" class=\"data row7 col0\" >Казань</td>\n",
              "      <td id=\"T_f38a5_row7_col1\" class=\"data row7 col1\" >1,415</td>\n",
              "    </tr>\n",
              "    <tr>\n",
              "      <td id=\"T_f38a5_row8_col0\" class=\"data row8 col0\" >Краснодар</td>\n",
              "      <td id=\"T_f38a5_row8_col1\" class=\"data row8 col1\" >1,301</td>\n",
              "    </tr>\n",
              "    <tr>\n",
              "      <td id=\"T_f38a5_row9_col0\" class=\"data row9 col0\" >Самара</td>\n",
              "      <td id=\"T_f38a5_row9_col1\" class=\"data row9 col1\" >1,144</td>\n",
              "    </tr>\n",
              "  </tbody>\n",
              "</table>\n"
            ],
            "text/plain": [
              "<pandas.io.formats.style.Styler at 0x27f6084a890>"
            ]
          },
          "metadata": {},
          "output_type": "display_data"
        }
      ],
      "source": [
        "display(\n",
        "    df.style\n",
        "    .format({'vacancy_count': '{:,}'})  # Форматирование чисел\n",
        "    .bar(subset=['vacancy_count'], color='#5fba7d')  # Цветные бары\n",
        "    .set_caption('Топ-10 регионов по количеству вакансий')\n",
        "    .hide(axis='index')  # Скрываем индексы\n",
        ")"
      ]
    },
    {
      "cell_type": "markdown",
      "id": "4266f0b6-1646-492a-88b4-2f6a46502135",
      "metadata": {
        "id": "4266f0b6-1646-492a-88b4-2f6a46502135"
      },
      "source": [
        "2. Напишите запрос, чтобы определить у какого количества вакансий заполнено хотя бы одно из двух полей с зарплатой."
      ]
    },
    {
      "cell_type": "code",
      "execution_count": 16,
      "id": "0c44b350-72eb-4d65-8b54-a1fc449ba9fd",
      "metadata": {
        "id": "0c44b350-72eb-4d65-8b54-a1fc449ba9fd"
      },
      "outputs": [],
      "source": [
        "query_4_2 = '''\n",
        "SELECT \n",
        "    COUNT(*) AS vacancies_with_salary\n",
        "FROM \n",
        "    vacancies\n",
        "WHERE \n",
        "    salary_from IS NOT NULL \n",
        "    OR salary_to IS NOT NULL;\n",
        "'''\n",
        "\n",
        "# Выполнение запроса\n",
        "cursor = connection.cursor()\n",
        "cursor.execute(query_4_2)\n",
        "result = cursor.fetchone()\n",
        "vacancies_with_salary = result[0]\n",
        "cursor.close()"
      ]
    },
    {
      "cell_type": "code",
      "execution_count": 17,
      "id": "rhvwaMDkoWTi",
      "metadata": {
        "id": "rhvwaMDkoWTi"
      },
      "outputs": [
        {
          "name": "stdout",
          "output_type": "stream",
          "text": [
            "Количество вакансий с указанной зарплатой (хотя бы одно поле): 24073\n"
          ]
        }
      ],
      "source": [
        "print(f\"Количество вакансий с указанной зарплатой (хотя бы одно поле): {vacancies_with_salary}\")"
      ]
    },
    {
      "cell_type": "markdown",
      "id": "635c4d5d-f323-4c66-b428-50a088120aa0",
      "metadata": {
        "id": "635c4d5d-f323-4c66-b428-50a088120aa0"
      },
      "source": [
        "3. Найдите средние значения для нижней и верхней границы зарплатной вилки. Округлите значения до целого."
      ]
    },
    {
      "cell_type": "code",
      "execution_count": 18,
      "id": "603cdbe4-0ec3-4106-8eaf-c73fcdd29165",
      "metadata": {
        "id": "603cdbe4-0ec3-4106-8eaf-c73fcdd29165"
      },
      "outputs": [],
      "source": [
        "query_4_3 = '''\n",
        "SELECT \n",
        "    ROUND(AVG(salary_from)) AS avg_salary_from,\n",
        "    ROUND(AVG(salary_to)) AS avg_salary_to\n",
        "FROM \n",
        "    vacancies\n",
        "WHERE \n",
        "    salary_from IS NOT NULL \n",
        "    OR salary_to IS NOT NULL;\n",
        "'''\n",
        "\n",
        "# Выполнение запроса\n",
        "cursor = connection.cursor()\n",
        "cursor.execute(query_4_3)\n",
        "avg_from, avg_to = cursor.fetchone()\n",
        "cursor.close()\n"
      ]
    },
    {
      "cell_type": "code",
      "execution_count": 19,
      "id": "pswpAb66ovZZ",
      "metadata": {
        "id": "pswpAb66ovZZ"
      },
      "outputs": [
        {
          "name": "stdout",
          "output_type": "stream",
          "text": [
            "Средние значения зарплатной вилки:\n",
            "Средняя нижняя граница: 71065 руб.\n",
            "Средняя верхняя граница: 110537 руб.\n"
          ]
        }
      ],
      "source": [
        "print(\"Средние значения зарплатной вилки:\")\n",
        "print(f\"Средняя нижняя граница: {int(avg_from)} руб.\")\n",
        "print(f\"Средняя верхняя граница: {int(avg_to)} руб.\")"
      ]
    },
    {
      "cell_type": "markdown",
      "id": "f3fdaec9-5fd3-4260-9cf5-1d7406b628a5",
      "metadata": {
        "id": "f3fdaec9-5fd3-4260-9cf5-1d7406b628a5"
      },
      "source": [
        "4. Напишите запрос, который выведет количество вакансий для каждого сочетания типа рабочего графика (schedule) и типа трудоустройства (employment), используемого в вакансиях. Результат отсортируйте по убыванию количества.\n"
      ]
    },
    {
      "cell_type": "code",
      "execution_count": 20,
      "id": "1ea710ec-871b-431e-9462-c7d0fd87011b",
      "metadata": {
        "id": "1ea710ec-871b-431e-9462-c7d0fd87011b"
      },
      "outputs": [],
      "source": [
        "query_4_4 = '''\n",
        "SELECT \n",
        "    schedule AS \"График работы\",\n",
        "    employment AS \"Тип трудоустройства\", \n",
        "    COUNT(*) AS \"Количество вакансий\"\n",
        "FROM \n",
        "    vacancies\n",
        "GROUP BY \n",
        "    schedule, employment\n",
        "ORDER BY \n",
        "    COUNT(*) DESC;\n",
        "'''\n",
        "\n",
        "cursor = connection.cursor()\n",
        "cursor.execute(query_4_4)\n",
        "\n",
        "columns = [desc[0] for desc in cursor.description]\n",
        "\n",
        "df_schedule = pd.DataFrame(cursor.fetchall(), columns=columns)\n",
        "\n",
        "cursor.close()"
      ]
    },
    {
      "cell_type": "code",
      "execution_count": 21,
      "id": "lGUVqavdo4JQ",
      "metadata": {
        "id": "lGUVqavdo4JQ"
      },
      "outputs": [
        {
          "data": {
            "text/html": [
              "<style type=\"text/css\">\n",
              "#T_0acbf_row0_col2 {\n",
              "  background-color: #5fba7d;\n",
              "}\n",
              "</style>\n",
              "<table id=\"T_0acbf\">\n",
              "  <caption>Распределение вакансий по графику работы и типу трудоустройства</caption>\n",
              "  <thead>\n",
              "    <tr>\n",
              "      <th id=\"T_0acbf_level0_col0\" class=\"col_heading level0 col0\" >График работы</th>\n",
              "      <th id=\"T_0acbf_level0_col1\" class=\"col_heading level0 col1\" >Тип трудоустройства</th>\n",
              "      <th id=\"T_0acbf_level0_col2\" class=\"col_heading level0 col2\" >Количество вакансий</th>\n",
              "    </tr>\n",
              "  </thead>\n",
              "  <tbody>\n",
              "    <tr>\n",
              "      <td id=\"T_0acbf_row0_col0\" class=\"data row0 col0\" >Полный день</td>\n",
              "      <td id=\"T_0acbf_row0_col1\" class=\"data row0 col1\" >Полная занятость</td>\n",
              "      <td id=\"T_0acbf_row0_col2\" class=\"data row0 col2\" >35,367</td>\n",
              "    </tr>\n",
              "    <tr>\n",
              "      <td id=\"T_0acbf_row1_col0\" class=\"data row1 col0\" >Удаленная работа</td>\n",
              "      <td id=\"T_0acbf_row1_col1\" class=\"data row1 col1\" >Полная занятость</td>\n",
              "      <td id=\"T_0acbf_row1_col2\" class=\"data row1 col2\" >7,802</td>\n",
              "    </tr>\n",
              "    <tr>\n",
              "      <td id=\"T_0acbf_row2_col0\" class=\"data row2 col0\" >Гибкий график</td>\n",
              "      <td id=\"T_0acbf_row2_col1\" class=\"data row2 col1\" >Полная занятость</td>\n",
              "      <td id=\"T_0acbf_row2_col2\" class=\"data row2 col2\" >1,593</td>\n",
              "    </tr>\n",
              "    <tr>\n",
              "      <td id=\"T_0acbf_row3_col0\" class=\"data row3 col0\" >Удаленная работа</td>\n",
              "      <td id=\"T_0acbf_row3_col1\" class=\"data row3 col1\" >Частичная занятость</td>\n",
              "      <td id=\"T_0acbf_row3_col2\" class=\"data row3 col2\" >1,312</td>\n",
              "    </tr>\n",
              "    <tr>\n",
              "      <td id=\"T_0acbf_row4_col0\" class=\"data row4 col0\" >Сменный график</td>\n",
              "      <td id=\"T_0acbf_row4_col1\" class=\"data row4 col1\" >Полная занятость</td>\n",
              "      <td id=\"T_0acbf_row4_col2\" class=\"data row4 col2\" >940</td>\n",
              "    </tr>\n",
              "    <tr>\n",
              "      <td id=\"T_0acbf_row5_col0\" class=\"data row5 col0\" >Полный день</td>\n",
              "      <td id=\"T_0acbf_row5_col1\" class=\"data row5 col1\" >Стажировка</td>\n",
              "      <td id=\"T_0acbf_row5_col2\" class=\"data row5 col2\" >569</td>\n",
              "    </tr>\n",
              "    <tr>\n",
              "      <td id=\"T_0acbf_row6_col0\" class=\"data row6 col0\" >Вахтовый метод</td>\n",
              "      <td id=\"T_0acbf_row6_col1\" class=\"data row6 col1\" >Полная занятость</td>\n",
              "      <td id=\"T_0acbf_row6_col2\" class=\"data row6 col2\" >367</td>\n",
              "    </tr>\n",
              "    <tr>\n",
              "      <td id=\"T_0acbf_row7_col0\" class=\"data row7 col0\" >Полный день</td>\n",
              "      <td id=\"T_0acbf_row7_col1\" class=\"data row7 col1\" >Частичная занятость</td>\n",
              "      <td id=\"T_0acbf_row7_col2\" class=\"data row7 col2\" >347</td>\n",
              "    </tr>\n",
              "    <tr>\n",
              "      <td id=\"T_0acbf_row8_col0\" class=\"data row8 col0\" >Гибкий график</td>\n",
              "      <td id=\"T_0acbf_row8_col1\" class=\"data row8 col1\" >Частичная занятость</td>\n",
              "      <td id=\"T_0acbf_row8_col2\" class=\"data row8 col2\" >312</td>\n",
              "    </tr>\n",
              "    <tr>\n",
              "      <td id=\"T_0acbf_row9_col0\" class=\"data row9 col0\" >Полный день</td>\n",
              "      <td id=\"T_0acbf_row9_col1\" class=\"data row9 col1\" >Проектная работа</td>\n",
              "      <td id=\"T_0acbf_row9_col2\" class=\"data row9 col2\" >141</td>\n",
              "    </tr>\n",
              "    <tr>\n",
              "      <td id=\"T_0acbf_row10_col0\" class=\"data row10 col0\" >Удаленная работа</td>\n",
              "      <td id=\"T_0acbf_row10_col1\" class=\"data row10 col1\" >Проектная работа</td>\n",
              "      <td id=\"T_0acbf_row10_col2\" class=\"data row10 col2\" >133</td>\n",
              "    </tr>\n",
              "    <tr>\n",
              "      <td id=\"T_0acbf_row11_col0\" class=\"data row11 col0\" >Гибкий график</td>\n",
              "      <td id=\"T_0acbf_row11_col1\" class=\"data row11 col1\" >Стажировка</td>\n",
              "      <td id=\"T_0acbf_row11_col2\" class=\"data row11 col2\" >116</td>\n",
              "    </tr>\n",
              "    <tr>\n",
              "      <td id=\"T_0acbf_row12_col0\" class=\"data row12 col0\" >Сменный график</td>\n",
              "      <td id=\"T_0acbf_row12_col1\" class=\"data row12 col1\" >Частичная занятость</td>\n",
              "      <td id=\"T_0acbf_row12_col2\" class=\"data row12 col2\" >101</td>\n",
              "    </tr>\n",
              "    <tr>\n",
              "      <td id=\"T_0acbf_row13_col0\" class=\"data row13 col0\" >Удаленная работа</td>\n",
              "      <td id=\"T_0acbf_row13_col1\" class=\"data row13 col1\" >Стажировка</td>\n",
              "      <td id=\"T_0acbf_row13_col2\" class=\"data row13 col2\" >64</td>\n",
              "    </tr>\n",
              "    <tr>\n",
              "      <td id=\"T_0acbf_row14_col0\" class=\"data row14 col0\" >Гибкий график</td>\n",
              "      <td id=\"T_0acbf_row14_col1\" class=\"data row14 col1\" >Проектная работа</td>\n",
              "      <td id=\"T_0acbf_row14_col2\" class=\"data row14 col2\" >18</td>\n",
              "    </tr>\n",
              "    <tr>\n",
              "      <td id=\"T_0acbf_row15_col0\" class=\"data row15 col0\" >Сменный график</td>\n",
              "      <td id=\"T_0acbf_row15_col1\" class=\"data row15 col1\" >Стажировка</td>\n",
              "      <td id=\"T_0acbf_row15_col2\" class=\"data row15 col2\" >12</td>\n",
              "    </tr>\n",
              "    <tr>\n",
              "      <td id=\"T_0acbf_row16_col0\" class=\"data row16 col0\" >Вахтовый метод</td>\n",
              "      <td id=\"T_0acbf_row16_col1\" class=\"data row16 col1\" >Проектная работа</td>\n",
              "      <td id=\"T_0acbf_row16_col2\" class=\"data row16 col2\" >2</td>\n",
              "    </tr>\n",
              "    <tr>\n",
              "      <td id=\"T_0acbf_row17_col0\" class=\"data row17 col0\" >Сменный график</td>\n",
              "      <td id=\"T_0acbf_row17_col1\" class=\"data row17 col1\" >Проектная работа</td>\n",
              "      <td id=\"T_0acbf_row17_col2\" class=\"data row17 col2\" >1</td>\n",
              "    </tr>\n",
              "  </tbody>\n",
              "</table>\n"
            ],
            "text/plain": [
              "<pandas.io.formats.style.Styler at 0x27f41ce4cd0>"
            ]
          },
          "metadata": {},
          "output_type": "display_data"
        }
      ],
      "source": [
        "display(\n",
        "    df_schedule.style\n",
        "    .format({'Количество вакансий': '{:,}'})\n",
        "    .highlight_max(subset=['Количество вакансий'], color='#5fba7d')\n",
        "    .set_caption('Распределение вакансий по графику работы и типу трудоустройства')\n",
        "    .hide(axis='index')\n",
        ")"
      ]
    },
    {
      "cell_type": "code",
      "execution_count": 22,
      "id": "82f6eca4",
      "metadata": {},
      "outputs": [
        {
          "data": {
            "image/png": "[encoded data removed]",
            "text/plain": [
              "<Figure size 1000x600 with 2 Axes>"
            ]
          },
          "metadata": {},
          "output_type": "display_data"
        }
      ],
      "source": [
        "df_schedule['Доля'] = df_schedule['Количество вакансий'] / df_schedule['Количество вакансий'].sum() * 100\n",
        "\n",
        "# Преобразуем данные для тепловой карты\n",
        "heatmap_data = df_schedule.pivot(\n",
        "    index=\"График работы\", \n",
        "    columns=\"Тип трудоустройства\", \n",
        "    values=\"Доля\"\n",
        ")\n",
        "\n",
        "# Визуализация\n",
        "plt.figure(figsize=(10, 6))\n",
        "sns.heatmap(\n",
        "    heatmap_data,\n",
        "    annot=True,\n",
        "    fmt=\".1f\",\n",
        "    cmap=\"YlGnBu\",\n",
        "    linewidths=.5,\n",
        "    cbar_kws={'label': 'Доля вакансий, %'}\n",
        ")\n",
        "plt.title('Тепловая карта распределения вакансий', pad=20)\n",
        "plt.xticks(rotation=45, ha='right')  # Поворот подписей для лучшей читаемости\n",
        "plt.tight_layout()\n",
        "plt.show()"
      ]
    },
    {
      "cell_type": "markdown",
      "id": "0136ffee-0ead-4a6b-b608-61d1c753a438",
      "metadata": {
        "id": "0136ffee-0ead-4a6b-b608-61d1c753a438"
      },
      "source": [
        "5. Напишите запрос, выводящий значения поля Требуемый опыт работы (experience) в порядке возрастания количества вакансий, в которых указан данный вариант опыта. "
      ]
    },
    {
      "cell_type": "code",
      "execution_count": 23,
      "id": "5b3a8e79-f7ab-4008-b767-12aea3a205ea",
      "metadata": {
        "id": "5b3a8e79-f7ab-4008-b767-12aea3a205ea"
      },
      "outputs": [],
      "source": [
        "query_4_5 = '''\n",
        "SELECT \n",
        "    experience AS \"Требуемый опыт\",\n",
        "    COUNT(*) AS \"Количество вакансий\"\n",
        "FROM \n",
        "    vacancies\n",
        "WHERE \n",
        "    experience IS NOT NULL\n",
        "GROUP BY \n",
        "    experience\n",
        "ORDER BY \n",
        "    COUNT(*) ASC;  -- Сортировка по возрастанию количества\n",
        "'''\n",
        "\n",
        "cursor = connection.cursor()\n",
        "cursor.execute(query_4_5)\n",
        "\n",
        "columns = [desc[0] for desc in cursor.description]\n",
        "\n",
        "df_experience = pd.DataFrame(cursor.fetchall(), columns=columns)\n",
        "\n",
        "cursor.close()\n",
        "\n"
      ]
    },
    {
      "cell_type": "code",
      "execution_count": 24,
      "id": "3Is64Y-hpDpq",
      "metadata": {
        "id": "3Is64Y-hpDpq"
      },
      "outputs": [
        {
          "data": {
            "text/html": [
              "<style type=\"text/css\">\n",
              "#T_84b8b_row0_col1 {\n",
              "  width: 10em;\n",
              "  background: linear-gradient(90deg, #5fba7d 5.1%, transparent 5.1%);\n",
              "}\n",
              "#T_84b8b_row1_col1 {\n",
              "  width: 10em;\n",
              "  background: linear-gradient(90deg, #5fba7d 27.5%, transparent 27.5%);\n",
              "}\n",
              "#T_84b8b_row2_col1 {\n",
              "  width: 10em;\n",
              "  background: linear-gradient(90deg, #5fba7d 55.5%, transparent 55.5%);\n",
              "}\n",
              "#T_84b8b_row3_col1 {\n",
              "  width: 10em;\n",
              "  background: linear-gradient(90deg, #5fba7d 100.0%, transparent 100.0%);\n",
              "}\n",
              "</style>\n",
              "<table id=\"T_84b8b\">\n",
              "  <caption>Распределение вакансий по требуемому опыту (по возрастанию)</caption>\n",
              "  <thead>\n",
              "    <tr>\n",
              "      <th id=\"T_84b8b_level0_col0\" class=\"col_heading level0 col0\" >Требуемый опыт</th>\n",
              "      <th id=\"T_84b8b_level0_col1\" class=\"col_heading level0 col1\" >Количество вакансий</th>\n",
              "    </tr>\n",
              "  </thead>\n",
              "  <tbody>\n",
              "    <tr>\n",
              "      <td id=\"T_84b8b_row0_col0\" class=\"data row0 col0\" >Более 6 лет</td>\n",
              "      <td id=\"T_84b8b_row0_col1\" class=\"data row0 col1\" >1,337</td>\n",
              "    </tr>\n",
              "    <tr>\n",
              "      <td id=\"T_84b8b_row1_col0\" class=\"data row1 col0\" >Нет опыта</td>\n",
              "      <td id=\"T_84b8b_row1_col1\" class=\"data row1 col1\" >7,197</td>\n",
              "    </tr>\n",
              "    <tr>\n",
              "      <td id=\"T_84b8b_row2_col0\" class=\"data row2 col0\" >От 3 до 6 лет</td>\n",
              "      <td id=\"T_84b8b_row2_col1\" class=\"data row2 col1\" >14,511</td>\n",
              "    </tr>\n",
              "    <tr>\n",
              "      <td id=\"T_84b8b_row3_col0\" class=\"data row3 col0\" >От 1 года до 3 лет</td>\n",
              "      <td id=\"T_84b8b_row3_col1\" class=\"data row3 col1\" >26,152</td>\n",
              "    </tr>\n",
              "  </tbody>\n",
              "</table>\n"
            ],
            "text/plain": [
              "<pandas.io.formats.style.Styler at 0x27f41ce7610>"
            ]
          },
          "metadata": {},
          "output_type": "display_data"
        }
      ],
      "source": [
        "display(\n",
        "    df_experience.style\n",
        "    .format({'Количество вакансий': '{:,}'})\n",
        "    .bar(subset=['Количество вакансий'], color='#5fba7d', vmin=0)\n",
        "    .set_caption('Распределение вакансий по требуемому опыту (по возрастанию)')\n",
        "    .hide(axis='index')\n",
        ")"
      ]
    },
    {
      "cell_type": "markdown",
      "id": "oq2b7n1QpIka",
      "metadata": {
        "id": "oq2b7n1QpIka"
      },
      "source": [
        "***"
      ]
    },
    {
      "cell_type": "markdown",
      "id": "009a97f3",
      "metadata": {},
      "source": [
        "Детальный анализ вакансий (Юнит 4)\n",
        "1. Географическое распределение:\n",
        "Москва и Санкт-Петербург доминируют — на них приходится 60% всех вакансий (5 333 и 2 851 из ~15 000 в топ-10 регионов).\n",
        "Крупные региональные центры (Минск, Новосибирск, Алматы, Екатеринбург) также имеют значительное количество вакансий (по 1 500–2 000).\n",
        "Рекомендация: учитывать региональные различия при анализе и построении рекомендаций.\n",
        "2. Зарплатные ожидания:\n",
        "Средняя зарплатная вилка: от 71 065 до 110 537 руб.\n",
        "Только у 50% вакансий указана зарплата — это затрудняет анализ рынка и требует дополнительной обработки salary-полей.\n",
        "3. Условия работы:\n",
        "Основной формат — полный день и полная занятость (72% вакансий).\n",
        "Удалённая работа — растущий тренд (16% вакансий).\n",
        "Важно учитывать предпочтения соискателей по формату работы при анализе и рекомендациях.\n",
        "4. Требуемый опыт:\n",
        "Наиболее востребованы специалисты с опытом 1–3 года (Middle, 53%) и 3–6 лет (Senior, 30%).\n",
        "Для Junior-уровня (нет опыта) — только 15% вакансий, что говорит о высокой конкуренции среди начинающих специалистов."
      ]
    },
    {
      "cell_type": "markdown",
      "id": "7ea20ab6-04a7-40a0-adec-443a0e5a42c3",
      "metadata": {
        "id": "7ea20ab6-04a7-40a0-adec-443a0e5a42c3"
      },
      "source": [
        "# Юнит 5. Анализ работодателей"
      ]
    },
    {
      "cell_type": "markdown",
      "id": "968aed80-74ef-4ffb-b5bf-c65b84e9caea",
      "metadata": {
        "id": "968aed80-74ef-4ffb-b5bf-c65b84e9caea"
      },
      "source": [
        "1. Напишите запрос, который позволит узнать, какие работодатели находятся на первом и пятом месте по количеству вакансий."
      ]
    },
    {
      "cell_type": "code",
      "execution_count": 63,
      "id": "afa0a472",
      "metadata": {},
      "outputs": [
        {
          "data": {
            "image/png": "[encoded data removed]",
            "text/plain": [
              "<Figure size 1400x800 with 2 Axes>"
            ]
          },
          "metadata": {},
          "output_type": "display_data"
        }
      ],
      "source": [
        "# Юнит 5. Анализ работодателей\n",
        "# 1. Топ-10 работодателей с визуализацией\n",
        "query_5_1 = '''\n",
        "SELECT \n",
        "    e.name AS employer_name,\n",
        "    COUNT(v.id) AS vacancy_count\n",
        "FROM \n",
        "    employers e\n",
        "JOIN \n",
        "    vacancies v ON e.id = v.employer_id\n",
        "GROUP BY \n",
        "    e.name\n",
        "ORDER BY \n",
        "    vacancy_count DESC\n",
        "LIMIT 10;\n",
        "'''\n",
        "\n",
        "cursor = connection.cursor()\n",
        "cursor.execute(query_5_1)\n",
        "columns = [desc[0] for desc in cursor.description]\n",
        "df_top_employers = pd.DataFrame(cursor.fetchall(), columns=columns)\n",
        "cursor.close()\n",
        "\n",
        "# Настройка стилей\n",
        "plt.style.use('seaborn-v0_8')\n",
        "sns.set_palette(\"husl\")\n",
        "plt.figure(figsize=(14, 8))\n",
        "\n",
        "# 1. Горизонтальный барплот для топ-10\n",
        "plt.subplot(1, 2, 1)\n",
        "barplot = sns.barplot(data=df_top_employers, \n",
        "                     y='employer_name', \n",
        "                     x='vacancy_count',\n",
        "                     orient='h')\n",
        "plt.title('Топ-10 работодателей по вакансиям', pad=20, fontsize=14)\n",
        "plt.xlabel('Количество вакансий', fontsize=12)\n",
        "plt.ylabel('')\n",
        "\n",
        "# Добавляем значения на бары\n",
        "for i, count in enumerate(df_top_employers['vacancy_count']):\n",
        "    plt.text(count + max(df_top_employers['vacancy_count'])*0.02, \n",
        "             i, \n",
        "             f'{count:,}', \n",
        "             va='center')\n",
        "\n",
        "# 2. Круговая диаграмма с акцентом на топ-3\n",
        "plt.subplot(1, 2, 2)\n",
        "explode = [0.1 if i < 3 else 0 for i in range(10)]  # Выделяем топ-3\n",
        "plt.pie(df_top_employers['vacancy_count'],\n",
        "        labels=df_top_employers['employer_name'],\n",
        "        autopct=lambda p: f'{p:.1f}%\\n({int(p*sum(df_top_employers[\"vacancy_count\"])/100):,})',\n",
        "        startangle=90,\n",
        "        explode=explode,\n",
        "        textprops={'fontsize': 9})\n",
        "plt.title('Распределение вакансий топ-10', pad=20, fontsize=14)\n",
        "\n",
        "plt.tight_layout()\n",
        "plt.show()"
      ]
    },
    {
      "cell_type": "code",
      "execution_count": 64,
      "id": "64tOMkAxqkQk",
      "metadata": {
        "id": "64tOMkAxqkQk"
      },
      "outputs": [
        {
          "name": "stdout",
          "output_type": "stream",
          "text": [
            "1-е место: Яндекс - 1933 вакансий\n",
            "5-е место: Газпром нефть - 331 вакансий\n"
          ]
        }
      ],
      "source": [
        "print(f\"1-е место: {df_top_employers['employer_name'][0]} - {df_top_employers['vacancy_count'][0]} вакансий\")\n",
        "print(f\"5-е место: {df_top_employers['employer_name'][4]} - {df_top_employers['vacancy_count'][4]} вакансий\")"
      ]
    },
    {
      "cell_type": "markdown",
      "id": "68377cfc-b378-43dc-ab7d-1195abf2c515",
      "metadata": {
        "id": "68377cfc-b378-43dc-ab7d-1195abf2c515"
      },
      "source": [
        "2. Напишите запрос, который для каждого региона выведет количество работодателей и вакансий в нём.\n",
        "Среди регионов, в которых нет вакансий, найдите тот, в котором наибольшее количество работодателей.\n"
      ]
    },
    {
      "cell_type": "code",
      "execution_count": 65,
      "id": "60c774a4",
      "metadata": {},
      "outputs": [],
      "source": [
        "query_5_2 = '''\n",
        "WITH regions_without_vacancies AS (\n",
        "    SELECT\n",
        "        a.id AS area_id,\n",
        "        a.name AS region_name\n",
        "    FROM\n",
        "        areas a\n",
        "    LEFT JOIN\n",
        "        vacancies v ON a.id = v.area_id\n",
        "    WHERE\n",
        "        v.id IS NULL\n",
        "),\n",
        "employers_in_regions_without_vacancies AS (\n",
        "    SELECT\n",
        "        e.id,\n",
        "        e.area\n",
        "    FROM\n",
        "        employers e\n",
        "    JOIN\n",
        "        regions_without_vacancies r ON e.area = r.area_id\n",
        ")\n",
        "SELECT\n",
        "    r.region_name,\n",
        "    COUNT(e.id) AS employers_count\n",
        "FROM\n",
        "    employers_in_regions_without_vacancies e\n",
        "JOIN\n",
        "    regions_without_vacancies r ON e.area = r.area_id\n",
        "GROUP BY\n",
        "    r.region_name\n",
        "ORDER BY\n",
        "    employers_count DESC\n",
        "LIMIT 20;\n",
        "'''\n",
        "\n",
        "cursor = connection.cursor()\n",
        "cursor.execute(query_5_2)\n",
        "columns = [desc[0] for desc in cursor.description]\n",
        "result = cursor.fetchall()\n",
        "cursor.close()\n",
        "\n",
        "df_result = pd.DataFrame(result, columns=columns)"
      ]
    },
    {
      "cell_type": "code",
      "execution_count": 66,
      "id": "7ee1e095",
      "metadata": {},
      "outputs": [
        {
          "data": {
            "text/html": [
              "<style type=\"text/css\">\n",
              "#T_30e99_row0_col1 {\n",
              "  width: 10em;\n",
              "  background: linear-gradient(90deg, #5fba7d 100.0%, transparent 100.0%);\n",
              "}\n",
              "#T_30e99_row1_col1 {\n",
              "  width: 10em;\n",
              "  background: linear-gradient(90deg, #5fba7d 50.5%, transparent 50.5%);\n",
              "}\n",
              "#T_30e99_row2_col1 {\n",
              "  width: 10em;\n",
              "  background: linear-gradient(90deg, #5fba7d 18.3%, transparent 18.3%);\n",
              "}\n",
              "#T_30e99_row3_col1 {\n",
              "  width: 10em;\n",
              "  background: linear-gradient(90deg, #5fba7d 4.6%, transparent 4.6%);\n",
              "}\n",
              "#T_30e99_row4_col1, #T_30e99_row5_col1 {\n",
              "  width: 10em;\n",
              "  background: linear-gradient(90deg, #5fba7d 4.4%, transparent 4.4%);\n",
              "}\n",
              "#T_30e99_row6_col1 {\n",
              "  width: 10em;\n",
              "  background: linear-gradient(90deg, #5fba7d 4.1%, transparent 4.1%);\n",
              "}\n",
              "#T_30e99_row7_col1, #T_30e99_row8_col1 {\n",
              "  width: 10em;\n",
              "  background: linear-gradient(90deg, #5fba7d 3.9%, transparent 3.9%);\n",
              "}\n",
              "#T_30e99_row9_col1 {\n",
              "  width: 10em;\n",
              "  background: linear-gradient(90deg, #5fba7d 3.7%, transparent 3.7%);\n",
              "}\n",
              "#T_30e99_row10_col1, #T_30e99_row11_col1 {\n",
              "  width: 10em;\n",
              "  background: linear-gradient(90deg, #5fba7d 2.4%, transparent 2.4%);\n",
              "}\n",
              "#T_30e99_row12_col1, #T_30e99_row13_col1 {\n",
              "  width: 10em;\n",
              "  background: linear-gradient(90deg, #5fba7d 2.2%, transparent 2.2%);\n",
              "}\n",
              "#T_30e99_row14_col1, #T_30e99_row15_col1 {\n",
              "  width: 10em;\n",
              "  background: linear-gradient(90deg, #5fba7d 1.7%, transparent 1.7%);\n",
              "}\n",
              "#T_30e99_row16_col1, #T_30e99_row17_col1, #T_30e99_row18_col1, #T_30e99_row19_col1 {\n",
              "  width: 10em;\n",
              "  background: linear-gradient(90deg, #5fba7d 1.5%, transparent 1.5%);\n",
              "}\n",
              "</style>\n",
              "<table id=\"T_30e99\">\n",
              "  <caption>Топ-20 регионов без вакансий с наибольшим числом работодателей</caption>\n",
              "  <thead>\n",
              "    <tr>\n",
              "      <th id=\"T_30e99_level0_col0\" class=\"col_heading level0 col0\" >region_name</th>\n",
              "      <th id=\"T_30e99_level0_col1\" class=\"col_heading level0 col1\" >employers_count</th>\n",
              "    </tr>\n",
              "  </thead>\n",
              "  <tbody>\n",
              "    <tr>\n",
              "      <td id=\"T_30e99_row0_col0\" class=\"data row0 col0\" >Россия</td>\n",
              "      <td id=\"T_30e99_row0_col1\" class=\"data row0 col1\" >410</td>\n",
              "    </tr>\n",
              "    <tr>\n",
              "      <td id=\"T_30e99_row1_col0\" class=\"data row1 col0\" >Казахстан</td>\n",
              "      <td id=\"T_30e99_row1_col1\" class=\"data row1 col1\" >207</td>\n",
              "    </tr>\n",
              "    <tr>\n",
              "      <td id=\"T_30e99_row2_col0\" class=\"data row2 col0\" >Московская область</td>\n",
              "      <td id=\"T_30e99_row2_col1\" class=\"data row2 col1\" >75</td>\n",
              "    </tr>\n",
              "    <tr>\n",
              "      <td id=\"T_30e99_row3_col0\" class=\"data row3 col0\" >Краснодарский край</td>\n",
              "      <td id=\"T_30e99_row3_col1\" class=\"data row3 col1\" >19</td>\n",
              "    </tr>\n",
              "    <tr>\n",
              "      <td id=\"T_30e99_row4_col0\" class=\"data row4 col0\" >Беларусь</td>\n",
              "      <td id=\"T_30e99_row4_col1\" class=\"data row4 col1\" >18</td>\n",
              "    </tr>\n",
              "    <tr>\n",
              "      <td id=\"T_30e99_row5_col0\" class=\"data row5 col0\" >Ростовская область</td>\n",
              "      <td id=\"T_30e99_row5_col1\" class=\"data row5 col1\" >18</td>\n",
              "    </tr>\n",
              "    <tr>\n",
              "      <td id=\"T_30e99_row6_col0\" class=\"data row6 col0\" >Азербайджан</td>\n",
              "      <td id=\"T_30e99_row6_col1\" class=\"data row6 col1\" >17</td>\n",
              "    </tr>\n",
              "    <tr>\n",
              "      <td id=\"T_30e99_row7_col0\" class=\"data row7 col0\" >Республика Татарстан</td>\n",
              "      <td id=\"T_30e99_row7_col1\" class=\"data row7 col1\" >16</td>\n",
              "    </tr>\n",
              "    <tr>\n",
              "      <td id=\"T_30e99_row8_col0\" class=\"data row8 col0\" >Нижегородская область</td>\n",
              "      <td id=\"T_30e99_row8_col1\" class=\"data row8 col1\" >16</td>\n",
              "    </tr>\n",
              "    <tr>\n",
              "      <td id=\"T_30e99_row9_col0\" class=\"data row9 col0\" >Узбекистан</td>\n",
              "      <td id=\"T_30e99_row9_col1\" class=\"data row9 col1\" >15</td>\n",
              "    </tr>\n",
              "    <tr>\n",
              "      <td id=\"T_30e99_row10_col0\" class=\"data row10 col0\" >Сингапур</td>\n",
              "      <td id=\"T_30e99_row10_col1\" class=\"data row10 col1\" >10</td>\n",
              "    </tr>\n",
              "    <tr>\n",
              "      <td id=\"T_30e99_row11_col0\" class=\"data row11 col0\" >Белгородская область</td>\n",
              "      <td id=\"T_30e99_row11_col1\" class=\"data row11 col1\" >10</td>\n",
              "    </tr>\n",
              "    <tr>\n",
              "      <td id=\"T_30e99_row12_col0\" class=\"data row12 col0\" >Ленинградская область</td>\n",
              "      <td id=\"T_30e99_row12_col1\" class=\"data row12 col1\" >9</td>\n",
              "    </tr>\n",
              "    <tr>\n",
              "      <td id=\"T_30e99_row13_col0\" class=\"data row13 col0\" >Калужская область</td>\n",
              "      <td id=\"T_30e99_row13_col1\" class=\"data row13 col1\" >9</td>\n",
              "    </tr>\n",
              "    <tr>\n",
              "      <td id=\"T_30e99_row14_col0\" class=\"data row14 col0\" >Воронежская область</td>\n",
              "      <td id=\"T_30e99_row14_col1\" class=\"data row14 col1\" >7</td>\n",
              "    </tr>\n",
              "    <tr>\n",
              "      <td id=\"T_30e99_row15_col0\" class=\"data row15 col0\" >Самарская область</td>\n",
              "      <td id=\"T_30e99_row15_col1\" class=\"data row15 col1\" >7</td>\n",
              "    </tr>\n",
              "    <tr>\n",
              "      <td id=\"T_30e99_row16_col0\" class=\"data row16 col0\" >Кировская область</td>\n",
              "      <td id=\"T_30e99_row16_col1\" class=\"data row16 col1\" >6</td>\n",
              "    </tr>\n",
              "    <tr>\n",
              "      <td id=\"T_30e99_row17_col0\" class=\"data row17 col0\" >Ульяновская область</td>\n",
              "      <td id=\"T_30e99_row17_col1\" class=\"data row17 col1\" >6</td>\n",
              "    </tr>\n",
              "    <tr>\n",
              "      <td id=\"T_30e99_row18_col0\" class=\"data row18 col0\" >Австралия</td>\n",
              "      <td id=\"T_30e99_row18_col1\" class=\"data row18 col1\" >6</td>\n",
              "    </tr>\n",
              "    <tr>\n",
              "      <td id=\"T_30e99_row19_col0\" class=\"data row19 col0\" >Ставропольский край</td>\n",
              "      <td id=\"T_30e99_row19_col1\" class=\"data row19 col1\" >6</td>\n",
              "    </tr>\n",
              "  </tbody>\n",
              "</table>\n"
            ],
            "text/plain": [
              "<pandas.io.formats.style.Styler at 0x27f44932890>"
            ]
          },
          "metadata": {},
          "output_type": "display_data"
        }
      ],
      "source": [
        "display(df_result.style\n",
        "       .format({'employers_count': '{:,}'})\n",
        "       .bar(subset=['employers_count'], color='#5fba7d')\n",
        "       .set_caption('Топ-20 регионов без вакансий с наибольшим числом работодателей')\n",
        "       .hide(axis='index'))\n"
      ]
    },
    {
      "cell_type": "markdown",
      "id": "f2fe0acb-ab1a-4e15-9326-2560e22d73c1",
      "metadata": {
        "id": "f2fe0acb-ab1a-4e15-9326-2560e22d73c1"
      },
      "source": [
        "3. Для каждого работодателя посчитайте количество регионов, в которых он публикует свои вакансии. Отсортируйте результат по убыванию количества.\n"
      ]
    },
    {
      "cell_type": "code",
      "execution_count": 67,
      "id": "6271f8ad-bd2e-4196-ae4a-5b39c4c1010e",
      "metadata": {
        "id": "6271f8ad-bd2e-4196-ae4a-5b39c4c1010e"
      },
      "outputs": [],
      "source": [
        "query_5_3 = '''\n",
        "SELECT \n",
        "    e.name AS employer_name,\n",
        "    COUNT(DISTINCT v.area_id) AS regions_count\n",
        "FROM \n",
        "    employers e\n",
        "JOIN \n",
        "    vacancies v ON e.id = v.employer_id\n",
        "JOIN\n",
        "    areas a ON v.area_id = a.id\n",
        "GROUP BY\n",
        "    e.id, e.name\n",
        "ORDER BY\n",
        "    regions_count DESC\n",
        "'''\n",
        "\n",
        "# Выполнение запроса\n",
        "cursor = connection.cursor()\n",
        "cursor.execute(query_5_3)\n",
        "\n",
        "columns = [desc[0] for desc in cursor.description]\n",
        "df_employer_regions = pd.DataFrame(cursor.fetchall(), columns=columns)\n",
        "cursor.close()\n",
        "\n"
      ]
    },
    {
      "cell_type": "code",
      "execution_count": 68,
      "id": "1EIvX3HasH4F",
      "metadata": {
        "id": "1EIvX3HasH4F"
      },
      "outputs": [
        {
          "data": {
            "text/html": [
              "<style type=\"text/css\">\n",
              "#T_76945_row0_col1 {\n",
              "  width: 10em;\n",
              "  background: linear-gradient(90deg, #5fba7d 100.0%, transparent 100.0%);\n",
              "}\n",
              "#T_76945_row1_col1 {\n",
              "  width: 10em;\n",
              "  background: linear-gradient(90deg, #5fba7d 84.0%, transparent 84.0%);\n",
              "}\n",
              "#T_76945_row2_col1 {\n",
              "  width: 10em;\n",
              "  background: linear-gradient(90deg, #5fba7d 64.1%, transparent 64.1%);\n",
              "}\n",
              "#T_76945_row3_col1 {\n",
              "  width: 10em;\n",
              "  background: linear-gradient(90deg, #5fba7d 48.6%, transparent 48.6%);\n",
              "}\n",
              "#T_76945_row4_col1 {\n",
              "  width: 10em;\n",
              "  background: linear-gradient(90deg, #5fba7d 39.2%, transparent 39.2%);\n",
              "}\n",
              "</style>\n",
              "<table id=\"T_76945\">\n",
              "  <caption>Работодатели по количеству регионов с вакансиями</caption>\n",
              "  <thead>\n",
              "    <tr>\n",
              "      <th id=\"T_76945_level0_col0\" class=\"col_heading level0 col0\" >Работодатель</th>\n",
              "      <th id=\"T_76945_level0_col1\" class=\"col_heading level0 col1\" >Количество регионов</th>\n",
              "    </tr>\n",
              "  </thead>\n",
              "  <tbody>\n",
              "    <tr>\n",
              "      <td id=\"T_76945_row0_col0\" class=\"data row0 col0\" >Яндекс</td>\n",
              "      <td id=\"T_76945_row0_col1\" class=\"data row0 col1\" >181</td>\n",
              "    </tr>\n",
              "    <tr>\n",
              "      <td id=\"T_76945_row1_col0\" class=\"data row1 col0\" >Ростелеком</td>\n",
              "      <td id=\"T_76945_row1_col1\" class=\"data row1 col1\" >152</td>\n",
              "    </tr>\n",
              "    <tr>\n",
              "      <td id=\"T_76945_row2_col0\" class=\"data row2 col0\" >Спецремонт</td>\n",
              "      <td id=\"T_76945_row2_col1\" class=\"data row2 col1\" >116</td>\n",
              "    </tr>\n",
              "    <tr>\n",
              "      <td id=\"T_76945_row3_col0\" class=\"data row3 col0\" >Поляков Денис Иванович</td>\n",
              "      <td id=\"T_76945_row3_col1\" class=\"data row3 col1\" >88</td>\n",
              "    </tr>\n",
              "    <tr>\n",
              "      <td id=\"T_76945_row4_col0\" class=\"data row4 col0\" >ООО ЕФИН </td>\n",
              "      <td id=\"T_76945_row4_col1\" class=\"data row4 col1\" >71</td>\n",
              "    </tr>\n",
              "  </tbody>\n",
              "</table>\n"
            ],
            "text/plain": [
              "<pandas.io.formats.style.Styler at 0x27f448f1b70>"
            ]
          },
          "metadata": {},
          "output_type": "display_data"
        }
      ],
      "source": [
        "# Переименовываем колонки для удобства отображения на русском\n",
        "df_employer_regions = df_employer_regions.rename(columns={\n",
        "    'employer_name': 'Работодатель', \n",
        "    'regions_count': 'Количество регионов'\n",
        "})\n",
        "\n",
        "# Отображаем данные\n",
        "display(\n",
        "    df_employer_regions.head(5).style\n",
        "    .format({'Количество регионов': '{:,}'})\n",
        "    .bar(subset=['Количество регионов'], color='#5fba7d', vmin=0)\n",
        "    .set_caption('Работодатели по количеству регионов с вакансиями')\n",
        "    .hide(axis='index')\n",
        ")"
      ]
    },
    {
      "cell_type": "markdown",
      "id": "eab2206d-d95b-468b-8e5f-34381abf0ce7",
      "metadata": {
        "id": "eab2206d-d95b-468b-8e5f-34381abf0ce7"
      },
      "source": [
        "4. Напишите запрос для подсчёта количества работодателей, у которых не указана сфера деятельности. "
      ]
    },
    {
      "cell_type": "code",
      "execution_count": 69,
      "id": "80defb23-bfb1-4a18-8be6-bf36aa7165d5",
      "metadata": {
        "id": "80defb23-bfb1-4a18-8be6-bf36aa7165d5"
      },
      "outputs": [],
      "source": [
        "query_5_4 = '''\n",
        "SELECT \n",
        "    COUNT(DISTINCT e.id) AS employers_without_industry\n",
        "FROM \n",
        "    employers e\n",
        "LEFT JOIN \n",
        "    employers_industries ei ON e.id = ei.employer_id\n",
        "WHERE \n",
        "    ei.industry_id IS NULL;\n",
        "'''\n",
        "\n",
        "# Выполнение запроса\n",
        "cursor = connection.cursor()\n",
        "cursor.execute(query_5_4)\n",
        "result = cursor.fetchone()\n",
        "cursor.close()\n",
        "\n"
      ]
    },
    {
      "cell_type": "code",
      "execution_count": 70,
      "id": "Dp_yCx6ysQSu",
      "metadata": {
        "id": "Dp_yCx6ysQSu"
      },
      "outputs": [
        {
          "name": "stdout",
          "output_type": "stream",
          "text": [
            "Количество работодателей без указанной сферы деятельности: 8419\n"
          ]
        }
      ],
      "source": [
        "print(f\"Количество работодателей без указанной сферы деятельности: {result[0]}\")"
      ]
    },
    {
      "cell_type": "markdown",
      "id": "0112af31-f6b0-4e3b-82ab-71296e752e5e",
      "metadata": {
        "id": "0112af31-f6b0-4e3b-82ab-71296e752e5e"
      },
      "source": [
        "5. Напишите запрос, чтобы узнать название компании, находящейся на третьем месте в алфавитном списке (по названию) компаний, у которых указано четыре сферы деятельности. "
      ]
    },
    {
      "cell_type": "code",
      "execution_count": 71,
      "id": "973b0cfc-a972-470a-8b4a-68744ef220c4",
      "metadata": {
        "id": "973b0cfc-a972-470a-8b4a-68744ef220c4"
      },
      "outputs": [],
      "source": [
        "query_5_5 = '''\n",
        "WITH employers_with_4_industries AS (\n",
        "    SELECT \n",
        "        e.name AS company_name,\n",
        "        COUNT(ei.industry_id) AS industries_count\n",
        "    FROM \n",
        "        employers e\n",
        "    JOIN \n",
        "        employers_industries ei ON e.id = ei.employer_id\n",
        "    GROUP BY \n",
        "        e.id, e.name\n",
        "    HAVING \n",
        "        COUNT(ei.industry_id) = 4\n",
        "    ORDER BY \n",
        "        e.name ASC\n",
        ")\n",
        "SELECT \n",
        "    company_name AS \"Компания на 3-м месте\"\n",
        "FROM \n",
        "    employers_with_4_industries\n",
        "OFFSET 2 LIMIT 1;\n",
        "'''\n",
        "\n",
        "# Выполнение запроса\n",
        "cursor = connection.cursor()\n",
        "cursor.execute(query_5_5)\n",
        "result = cursor.fetchone()\n",
        "cursor.close()\n"
      ]
    },
    {
      "cell_type": "code",
      "execution_count": 72,
      "id": "xsPtpp8EsaED",
      "metadata": {
        "id": "xsPtpp8EsaED"
      },
      "outputs": [
        {
          "name": "stdout",
          "output_type": "stream",
          "text": [
            "Третья компания в алфавитном порядке с 4 сферами деятельности: 2ГИС\n"
          ]
        }
      ],
      "source": [
        "print(f\"Третья компания в алфавитном порядке с 4 сферами деятельности: {result[0]}\")"
      ]
    },
    {
      "cell_type": "markdown",
      "id": "3bfcfdaf-755d-4d2b-8ed8-326201dc07ab",
      "metadata": {
        "id": "3bfcfdaf-755d-4d2b-8ed8-326201dc07ab"
      },
      "source": [
        "6. С помощью запроса выясните, у какого количества работодателей в качестве сферы деятельности указана Разработка программного обеспечения.\n"
      ]
    },
    {
      "cell_type": "code",
      "execution_count": 73,
      "id": "ad3f270f-2991-47eb-929b-e8f88a55b0d1",
      "metadata": {
        "id": "ad3f270f-2991-47eb-929b-e8f88a55b0d1"
      },
      "outputs": [],
      "source": [
        "query_5_6 = '''\n",
        "SELECT COUNT(DISTINCT e.id) AS software_dev_employers\n",
        "FROM employers e\n",
        "JOIN employers_industries ei ON e.id = ei.employer_id\n",
        "JOIN industries i ON ei.industry_id = i.id\n",
        "WHERE i.name = 'Разработка программного обеспечения';\n",
        "'''\n",
        "\n",
        "cursor = connection.cursor()\n",
        "cursor.execute(query_5_6)\n",
        "result = cursor.fetchone()\n",
        "cursor.close()\n"
      ]
    },
    {
      "cell_type": "code",
      "execution_count": 74,
      "id": "H72qxWM0shPR",
      "metadata": {
        "id": "H72qxWM0shPR"
      },
      "outputs": [
        {
          "name": "stdout",
          "output_type": "stream",
          "text": [
            "Количество работодателей в сфере 'Разработка программного обеспечения': 3553\n"
          ]
        }
      ],
      "source": [
        "print(f\"Количество работодателей в сфере 'Разработка программного обеспечения': {result[0]}\")"
      ]
    },
    {
      "cell_type": "markdown",
      "id": "7b02bb86-0546-40fb-94a4-242f050a5c57",
      "metadata": {
        "id": "7b02bb86-0546-40fb-94a4-242f050a5c57"
      },
      "source": [
        "7. Для компании «Яндекс» выведите список регионов-миллионников, в которых представлены вакансии компании, вместе с количеством вакансий в этих регионах. Также добавьте строку Total с общим количеством вакансий компании. Результат отсортируйте по возрастанию количества.\n",
        "\n",
        "Список городов-милионников надо взять [отсюда](https://ru.wikipedia.org/wiki/%D0%93%D0%BE%D1%80%D0%BE%D0%B4%D0%B0-%D0%BC%D0%B8%D0%BB%D0%BB%D0%B8%D0%BE%D0%BD%D0%B5%D1%80%D1%8B_%D0%A0%D0%BE%D1%81%D1%81%D0%B8%D0%B8). \n",
        "\n",
        "Если возникнут трудности с этим задание посмотрите материалы модуля  PYTHON-17. Как получать данные из веб-источников и API. "
      ]
    },
    {
      "cell_type": "code",
      "execution_count": 75,
      "id": "ZdfrL6gIs1Pn",
      "metadata": {
        "id": "ZdfrL6gIs1Pn"
      },
      "outputs": [
        {
          "name": "stdout",
          "output_type": "stream",
          "text": [
            "Найдено 16 городов-миллионников: ['Москва', 'Санкт-Петербург', 'Новосибирск', 'Екатеринбург', 'Казань', 'Красноярск', 'Нижний Новгород', 'Челябинск', 'Уфа', 'Краснодар', 'Самара', 'Ростов-на-Дону', 'Омск', 'Воронеж', 'Пермь', 'Волгоград']\n"
          ]
        }
      ],
      "source": [
        "connection = psycopg2.connect(\n",
        "    dbname=DBNAME,\n",
        "    user=USER,\n",
        "    host=HOST,\n",
        "    password=PASSWORD,\n",
        "    port=PORT\n",
        ")\n",
        "\n",
        "# Шаг 1: Получаем список городов-миллионников из Википедии\n",
        "url = \"https://ru.wikipedia.org/wiki/Города-миллионеры_России\"\n",
        "response = requests.get(url)\n",
        "soup = BeautifulSoup(response.content, 'html.parser')\n",
        "\n",
        "# Ищем таблицу с городами-миллионниками\n",
        "url = \"https://ru.wikipedia.org/wiki/Города-миллионеры_России\"\n",
        "response = requests.get(url)\n",
        "soup = BeautifulSoup(response.content, 'html.parser')\n",
        "\n",
        "millionaire_cities = []\n",
        "tables = soup.find_all('table', {'class': ['wikitable', 'sortable']})\n",
        "for table in tables:\n",
        "    rows = table.find_all('tr')\n",
        "    for row in rows[1:]:  # Пропускаем заголовок\n",
        "        cells = row.find_all(['td', 'th'])\n",
        "        if len(cells) >= 2:\n",
        "            city_name = cells[1].text.strip()  # Название во втором столбце (индекс 1)\n",
        "            # Удаление сносок и прочих символов\n",
        "            city_name = city_name.split('[')[0].strip()\n",
        "            millionaire_cities.append(city_name)\n",
        "\n",
        "print(f\"Найдено {len(millionaire_cities)} городов-миллионников: {millionaire_cities}\")\n",
        "\n",
        "# Шаг 2: Формируем список городов для SQL запроса\n",
        "cities_sql_list = ', '.join([f\"'{city}'\" for city in millionaire_cities])\n",
        "\n",
        "# Шаг 3: SQL-запрос для получения количества вакансий Яндекса по городам\n",
        "query_5_7 = f\"\"\"\n",
        "WITH yandex_id AS (\n",
        "    SELECT id FROM employers WHERE name = 'Яндекс'\n",
        ")\n",
        "SELECT * FROM (\n",
        "    SELECT \n",
        "        a.name AS city_name,\n",
        "        COUNT(v.id) AS vacancies_count,\n",
        "        1 AS sort_order\n",
        "    FROM \n",
        "        vacancies v\n",
        "    JOIN \n",
        "        areas a ON v.area_id = a.id\n",
        "    WHERE \n",
        "        v.employer_id IN (SELECT id FROM yandex_id)\n",
        "        AND a.name IN ({cities_sql_list})\n",
        "    GROUP BY \n",
        "        a.name\n",
        "\n",
        "    UNION ALL\n",
        "\n",
        "    SELECT \n",
        "        'Total' AS city_name,\n",
        "        COUNT(v.id) AS vacancies_count,\n",
        "        2 AS sort_order\n",
        "    FROM \n",
        "        vacancies v\n",
        "    WHERE \n",
        "        v.employer_id IN (SELECT id FROM yandex_id)\n",
        ") subquery\n",
        "ORDER BY \n",
        "    sort_order,\n",
        "    vacancies_count\n",
        "\"\"\"\n",
        "\n",
        "# Выполнение запроса\n",
        "cursor = connection.cursor()\n",
        "cursor.execute(query_5_7)\n",
        "results = cursor.fetchall()\n",
        "\n",
        "# Закрываем соединение\n",
        "cursor.close()\n",
        "connection.close()"
      ]
    },
    {
      "cell_type": "code",
      "execution_count": 76,
      "id": "ttPhiO1rsvPq",
      "metadata": {
        "id": "ttPhiO1rsvPq"
      },
      "outputs": [
        {
          "data": {
            "text/html": [
              "<style type=\"text/css\">\n",
              "#T_6eeac_row0_col1 {\n",
              "  width: 10em;\n",
              "  background: linear-gradient(90deg, #5fba7d 11.1%, transparent 11.1%);\n",
              "}\n",
              "#T_6eeac_row1_col1 {\n",
              "  width: 10em;\n",
              "  background: linear-gradient(90deg, #5fba7d 8.7%, transparent 8.7%);\n",
              "}\n",
              "#T_6eeac_row2_col1 {\n",
              "  width: 10em;\n",
              "  background: linear-gradient(90deg, #5fba7d 8.0%, transparent 8.0%);\n",
              "}\n",
              "#T_6eeac_row3_col1 {\n",
              "  width: 10em;\n",
              "  background: linear-gradient(90deg, #5fba7d 7.4%, transparent 7.4%);\n",
              "}\n",
              "#T_6eeac_row4_col1 {\n",
              "  width: 10em;\n",
              "  background: linear-gradient(90deg, #5fba7d 7.2%, transparent 7.2%);\n",
              "}\n",
              "#T_6eeac_row5_col1 {\n",
              "  width: 10em;\n",
              "  background: linear-gradient(90deg, #5fba7d 6.6%, transparent 6.6%);\n",
              "}\n",
              "#T_6eeac_row6_col1 {\n",
              "  width: 10em;\n",
              "  background: linear-gradient(90deg, #5fba7d 6.2%, transparent 6.2%);\n",
              "}\n",
              "#T_6eeac_row7_col1, #T_6eeac_row8_col1 {\n",
              "  width: 10em;\n",
              "  background: linear-gradient(90deg, #5fba7d 5.4%, transparent 5.4%);\n",
              "}\n",
              "#T_6eeac_row9_col1, #T_6eeac_row10_col1, #T_6eeac_row11_col1 {\n",
              "  width: 10em;\n",
              "  background: linear-gradient(90deg, #5fba7d 5.2%, transparent 5.2%);\n",
              "}\n",
              "#T_6eeac_row12_col1 {\n",
              "  width: 10em;\n",
              "  background: linear-gradient(90deg, #5fba7d 4.9%, transparent 4.9%);\n",
              "}\n",
              "#T_6eeac_row13_col1 {\n",
              "  width: 10em;\n",
              "  background: linear-gradient(90deg, #5fba7d 4.7%, transparent 4.7%);\n",
              "}\n",
              "#T_6eeac_row14_col1 {\n",
              "  width: 10em;\n",
              "  background: linear-gradient(90deg, #5fba7d 4.5%, transparent 4.5%);\n",
              "}\n",
              "#T_6eeac_row15_col1 {\n",
              "  width: 10em;\n",
              "  background: linear-gradient(90deg, #5fba7d 4.3%, transparent 4.3%);\n",
              "}\n",
              "#T_6eeac_row16_col1 {\n",
              "  width: 10em;\n",
              "  background: linear-gradient(90deg, #5fba7d 100.0%, transparent 100.0%);\n",
              "}\n",
              "</style>\n",
              "<table id=\"T_6eeac\">\n",
              "  <caption>Вакансии Яндекса в городах-миллионниках</caption>\n",
              "  <thead>\n",
              "    <tr>\n",
              "      <th id=\"T_6eeac_level0_col0\" class=\"col_heading level0 col0\" >Город</th>\n",
              "      <th id=\"T_6eeac_level0_col1\" class=\"col_heading level0 col1\" >Количество вакансий</th>\n",
              "    </tr>\n",
              "  </thead>\n",
              "  <tbody>\n",
              "    <tr>\n",
              "      <td id=\"T_6eeac_row0_col0\" class=\"data row0 col0\" >Москва</td>\n",
              "      <td id=\"T_6eeac_row0_col1\" class=\"data row0 col1\" >54</td>\n",
              "    </tr>\n",
              "    <tr>\n",
              "      <td id=\"T_6eeac_row1_col0\" class=\"data row1 col0\" >Санкт-Петербург</td>\n",
              "      <td id=\"T_6eeac_row1_col1\" class=\"data row1 col1\" >42</td>\n",
              "    </tr>\n",
              "    <tr>\n",
              "      <td id=\"T_6eeac_row2_col0\" class=\"data row2 col0\" >Екатеринбург</td>\n",
              "      <td id=\"T_6eeac_row2_col1\" class=\"data row2 col1\" >39</td>\n",
              "    </tr>\n",
              "    <tr>\n",
              "      <td id=\"T_6eeac_row3_col0\" class=\"data row3 col0\" >Нижний Новгород</td>\n",
              "      <td id=\"T_6eeac_row3_col1\" class=\"data row3 col1\" >36</td>\n",
              "    </tr>\n",
              "    <tr>\n",
              "      <td id=\"T_6eeac_row4_col0\" class=\"data row4 col0\" >Новосибирск</td>\n",
              "      <td id=\"T_6eeac_row4_col1\" class=\"data row4 col1\" >35</td>\n",
              "    </tr>\n",
              "    <tr>\n",
              "      <td id=\"T_6eeac_row5_col0\" class=\"data row5 col0\" >Воронеж</td>\n",
              "      <td id=\"T_6eeac_row5_col1\" class=\"data row5 col1\" >32</td>\n",
              "    </tr>\n",
              "    <tr>\n",
              "      <td id=\"T_6eeac_row6_col0\" class=\"data row6 col0\" >Краснодар</td>\n",
              "      <td id=\"T_6eeac_row6_col1\" class=\"data row6 col1\" >30</td>\n",
              "    </tr>\n",
              "    <tr>\n",
              "      <td id=\"T_6eeac_row7_col0\" class=\"data row7 col0\" >Самара</td>\n",
              "      <td id=\"T_6eeac_row7_col1\" class=\"data row7 col1\" >26</td>\n",
              "    </tr>\n",
              "    <tr>\n",
              "      <td id=\"T_6eeac_row8_col0\" class=\"data row8 col0\" >Уфа</td>\n",
              "      <td id=\"T_6eeac_row8_col1\" class=\"data row8 col1\" >26</td>\n",
              "    </tr>\n",
              "    <tr>\n",
              "      <td id=\"T_6eeac_row9_col0\" class=\"data row9 col0\" >Пермь</td>\n",
              "      <td id=\"T_6eeac_row9_col1\" class=\"data row9 col1\" >25</td>\n",
              "    </tr>\n",
              "    <tr>\n",
              "      <td id=\"T_6eeac_row10_col0\" class=\"data row10 col0\" >Казань</td>\n",
              "      <td id=\"T_6eeac_row10_col1\" class=\"data row10 col1\" >25</td>\n",
              "    </tr>\n",
              "    <tr>\n",
              "      <td id=\"T_6eeac_row11_col0\" class=\"data row11 col0\" >Ростов-на-Дону</td>\n",
              "      <td id=\"T_6eeac_row11_col1\" class=\"data row11 col1\" >25</td>\n",
              "    </tr>\n",
              "    <tr>\n",
              "      <td id=\"T_6eeac_row12_col0\" class=\"data row12 col0\" >Волгоград</td>\n",
              "      <td id=\"T_6eeac_row12_col1\" class=\"data row12 col1\" >24</td>\n",
              "    </tr>\n",
              "    <tr>\n",
              "      <td id=\"T_6eeac_row13_col0\" class=\"data row13 col0\" >Красноярск</td>\n",
              "      <td id=\"T_6eeac_row13_col1\" class=\"data row13 col1\" >23</td>\n",
              "    </tr>\n",
              "    <tr>\n",
              "      <td id=\"T_6eeac_row14_col0\" class=\"data row14 col0\" >Челябинск</td>\n",
              "      <td id=\"T_6eeac_row14_col1\" class=\"data row14 col1\" >22</td>\n",
              "    </tr>\n",
              "    <tr>\n",
              "      <td id=\"T_6eeac_row15_col0\" class=\"data row15 col0\" >Омск</td>\n",
              "      <td id=\"T_6eeac_row15_col1\" class=\"data row15 col1\" >21</td>\n",
              "    </tr>\n",
              "    <tr>\n",
              "      <td id=\"T_6eeac_row16_col0\" class=\"data row16 col0\" >Total</td>\n",
              "      <td id=\"T_6eeac_row16_col1\" class=\"data row16 col1\" >485</td>\n",
              "    </tr>\n",
              "  </tbody>\n",
              "</table>\n"
            ],
            "text/plain": [
              "<pandas.io.formats.style.Styler at 0x27f4489a260>"
            ]
          },
          "metadata": {},
          "output_type": "display_data"
        }
      ],
      "source": [
        "# Получаем имена колонок\n",
        "column_names = [desc[0] for desc in cursor.description]\n",
        "\n",
        "# Создаем DataFrame из результатов\n",
        "df_results = pd.DataFrame(results, columns=column_names)\n",
        "\n",
        "# Переименование колонок\n",
        "df_results = df_results.rename(columns={\n",
        "    'city_name': 'Город',\n",
        "    'vacancies_count': 'Количество вакансий'\n",
        "})\n",
        "\n",
        "# Отделяем города от строки Total\n",
        "df_cities = df_results[df_results['Город'] != 'Total'].copy()\n",
        "\n",
        "# Сортируем города по убыванию количества вакансий\n",
        "df_cities = df_cities.sort_values(by='Количество вакансий', ascending=False)\n",
        "\n",
        "# Создаем строку Total с суммой по городам-миллионникам\n",
        "millionaire_cities_sum = df_cities['Количество вакансий'].sum()\n",
        "total_row = pd.DataFrame({\n",
        "    'Город': ['Total'],\n",
        "    'Количество вакансий': [millionaire_cities_sum]\n",
        "})\n",
        "\n",
        "# Объединяем города и строку Total\n",
        "df_final = pd.concat([df_cities, total_row], ignore_index=True)\n",
        "\n",
        "# Выводим таблицу с форматированием\n",
        "display(\n",
        "    df_final[['Город', 'Количество вакансий']].style\n",
        "    .format({'Количество вакансий': '{:,}'})\n",
        "    .bar(subset=['Количество вакансий'], color='#5fba7d', vmin=0)\n",
        "    .set_caption('Вакансии Яндекса в городах-миллионниках')\n",
        "    .hide(axis='index')\n",
        ")\n",
        "\n"
      ]
    },
    {
      "cell_type": "markdown",
      "id": "04966e40-3bc3-4dc8-9ba2-e80580ce3abc",
      "metadata": {
        "id": "04966e40-3bc3-4dc8-9ba2-e80580ce3abc"
      },
      "source": [
        "***"
      ]
    },
    {
      "cell_type": "code",
      "execution_count": 77,
      "id": "2e8df2bd",
      "metadata": {},
      "outputs": [
        {
          "name": "stderr",
          "output_type": "stream",
          "text": [
            "C:\\Users\\makss\\AppData\\Local\\Temp\\ipykernel_27372\\3220238137.py:11: FutureWarning: \n",
            "\n",
            "Passing `palette` without assigning `hue` is deprecated and will be removed in v0.14.0. Assign the `y` variable to `hue` and set `legend=False` for the same effect.\n",
            "\n",
            "  sns.barplot(\n"
          ]
        },
        {
          "data": {
            "image/png": "[encoded data removed]",
            "text/plain": [
              "<Figure size 1800x600 with 2 Axes>"
            ]
          },
          "metadata": {},
          "output_type": "display_data"
        },
        {
          "name": "stdout",
          "output_type": "stream",
          "text": [
            "Всего вакансий Яндекса: 1,933\n",
            "В городах-миллионниках: 485 (25.1%)\n",
            "В других городах: 1,448 (74.9%)\n"
          ]
        }
      ],
      "source": [
        "# Извлекаем данные\n",
        "millionaire_cities_data = df_cities.copy()\n",
        "total_vacancies = df_results[df_results['Город'] == 'Total']['Количество вакансий'].values[0]\n",
        "millionaire_cities_sum = millionaire_cities_data['Количество вакансий'].sum()\n",
        "other_cities_sum = total_vacancies - millionaire_cities_sum\n",
        "\n",
        "# Создаем фигуру с двумя подграфиками\n",
        "fig, (ax1, ax2) = plt.subplots(1, 2, figsize=(18, 6))\n",
        "\n",
        "# Диаграмма 1: Barplot по городам-миллионникам\n",
        "sns.barplot(\n",
        "    data=millionaire_cities_data,\n",
        "    x='Количество вакансий',\n",
        "    y='Город',\n",
        "    palette='husl',\n",
        "    ax=ax1\n",
        ")\n",
        "ax1.set_title('Вакансии Яндекса в городах-миллионниках')\n",
        "ax1.set_xlabel('Количество вакансий')\n",
        "ax1.set_ylabel('Город')\n",
        "ax1.xaxis.grid(True, linestyle='--', alpha=0.7)  # Добавляем вертикальные линии-сетку\n",
        "\n",
        "# Диаграмма 2: Города-миллионники vs другие города (pie)\n",
        "labels = ['Города-миллионники', 'Другие города']\n",
        "sizes = [millionaire_cities_sum, other_cities_sum]\n",
        "ax2.pie(sizes, labels=labels, autopct='%1.1f%%', startangle=90,\n",
        "        colors=['#5fba7d', '#f2a649'])\n",
        "ax2.set_title('Соотношение вакансий в городах-миллионниках и других городах')\n",
        "ax2.axis('equal')\n",
        "\n",
        "plt.tight_layout()\n",
        "plt.show()\n",
        "\n",
        "# Вывод числовой информации\n",
        "print(f\"Всего вакансий Яндекса: {total_vacancies:,}\")\n",
        "print(f\"В городах-миллионниках: {millionaire_cities_sum:,} ({millionaire_cities_sum/total_vacancies:.1%})\")\n",
        "print(f\"В других городах: {other_cities_sum:,} ({other_cities_sum/total_vacancies:.1%})\")"
      ]
    },
    {
      "cell_type": "markdown",
      "id": "dbd743d7",
      "metadata": {},
      "source": [
        "Анализ работодателей (Юнит 5)\n",
        "1. Топ работодателей по количеству вакансий:\n",
        "1-е место: Яндекс — 1933 вакансии\n",
        "5-е место: Газпром нефть — 331 вакансия\n",
        "В топ-10 входят крупные федеральные и международные компании, лидеры рынка.\n",
        "2. География работодателей:\n",
        "Некоторые регионы имеют работодателей, но не имеют вакансий (например, \"Россия\" — 410 работодателей без вакансий).\n",
        "Это может указывать на юридическую регистрацию компаний в регионе без фактической деятельности.\n",
        "3. Охват регионов:\n",
        "Крупные работодатели (например, Яндекс) публикуют вакансии в большом количестве регионов, что говорит о широкой географии бизнеса.\n",
        "4. Проблемы с данными:\n",
        "8419 работодателей (около 36%) не указали сферу деятельности.\n",
        "Это затрудняет отраслевой анализ и сегментацию рынка.\n",
        "5. Сферы деятельности:\n",
        "3553 работодателя указали сферу \"Разработка программного обеспечения\".\n",
        "IT-сектор — один из самых представленных среди работодателей.\n",
        "Краткие закономерности:\n",
        "Рынок вакансий концентрируется вокруг крупных компаний и IT-сектора.\n",
        "Есть значительная доля работодателей с неполными данными (нет сферы деятельности).\n",
        "Крупные работодатели представлены в большинстве регионов, что говорит о высокой мобильности и масштабируемости бизнеса.\n",
        "В ряде регионов есть работодатели, но нет вакансий — это может быть связано с особенностями регистрации компаний."
      ]
    },
    {
      "cell_type": "markdown",
      "id": "b1ef156a-efcb-49ce-bb23-90763e7f35b2",
      "metadata": {
        "id": "b1ef156a-efcb-49ce-bb23-90763e7f35b2",
        "tags": []
      },
      "source": [
        "# Юнит 6. Предметный анализ"
      ]
    },
    {
      "cell_type": "markdown",
      "id": "b9cd50a0-992d-4988-8463-2b2b1c4629b4",
      "metadata": {
        "id": "b9cd50a0-992d-4988-8463-2b2b1c4629b4"
      },
      "source": [
        "1. Сколько вакансий имеет отношение к данным?\n",
        "\n",
        "Считаем, что вакансия имеет отношение к данным, если в её названии содержатся слова 'data' или 'данн'.\n",
        "\n",
        "*Подсказка: Обратите внимание, что названия вакансий могут быть написаны в любом регистре.* \n"
      ]
    },
    {
      "cell_type": "code",
      "execution_count": 79,
      "id": "54ab0e50-c0f1-47cc-a54b-bc5c8bc363f9",
      "metadata": {
        "id": "54ab0e50-c0f1-47cc-a54b-bc5c8bc363f9"
      },
      "outputs": [],
      "source": [
        "query_6_1 = \"\"\"\n",
        "SELECT COUNT(*) \n",
        "FROM vacancies\n",
        "WHERE LOWER(name) LIKE '%data%' OR LOWER(name) LIKE '%данн%';\n",
        "\"\"\"\n",
        "\n",
        "cursor = connection.cursor()\n",
        "cursor.execute(query_6_1)\n",
        "result = cursor.fetchone()[0]\n",
        "cursor.close()\n"
      ]
    },
    {
      "cell_type": "code",
      "execution_count": 80,
      "id": "9F1meAqsuUjd",
      "metadata": {
        "id": "9F1meAqsuUjd"
      },
      "outputs": [
        {
          "name": "stdout",
          "output_type": "stream",
          "text": [
            "Количество вакансий, связанных с данными: 1771\n"
          ]
        }
      ],
      "source": [
        "\n",
        "print(f\"Количество вакансий, связанных с данными: {result}\")"
      ]
    },
    {
      "cell_type": "markdown",
      "id": "7fb28b39",
      "metadata": {},
      "source": [
        "2. Сколько есть подходящих вакансий для начинающего дата-сайентиста? \n",
        "Будем считать вакансиями для дата-сайентистов такие, в названии которых есть хотя бы одно из следующих сочетаний:\n",
        "* 'data scientist'\n",
        "* 'data science'\n",
        "* 'исследователь данных'\n",
        "* 'ML' (здесь не нужно брать вакансии по HTML)\n",
        "* 'machine learning'\n",
        "* 'машинн%обучен%'\n",
        "\n",
        "** В следующих заданиях мы продолжим работать с вакансиями по этому условию.*\n",
        "\n",
        "Считаем вакансиями для специалистов уровня Junior следующие:\n",
        "* в названии есть слово 'junior' *или*\n",
        "* требуемый опыт — Нет опыта *или*\n",
        "* тип трудоустройства — Стажировка.\n",
        " "
      ]
    },
    {
      "cell_type": "code",
      "execution_count": 84,
      "id": "9b9e0026",
      "metadata": {},
      "outputs": [],
      "source": [
        "query_6_2 = \"\"\"\n",
        "SELECT COUNT(*) \n",
        "FROM vacancies\n",
        "WHERE (\n",
        "    -- Data science related keywords in title\n",
        "    LOWER(name) LIKE '%data scientist%' OR\n",
        "    LOWER(name) LIKE '%data science%' OR\n",
        "    LOWER(name) LIKE '%исследователь данных%' OR\n",
        "    (LOWER(name) LIKE '%ml%' AND LOWER(name) NOT LIKE '%html%') OR\n",
        "    LOWER(name) LIKE '%machine learning%' OR\n",
        "    LOWER(name) LIKE '%машинн%обучен%'\n",
        ") AND (\n",
        "    -- Junior level criteria\n",
        "    LOWER(name) LIKE '%junior%' OR\n",
        "    experience = 'Нет опыта' OR\n",
        "    schedule = 'Стажировка'\n",
        ");\n",
        "\"\"\"\n",
        "\n",
        "# Выполнение запроса\n",
        "cursor = connection.cursor()\n",
        "cursor.execute(query_6_2)\n",
        "result = cursor.fetchone()[0]\n",
        "cursor.close()"
      ]
    },
    {
      "cell_type": "code",
      "execution_count": 85,
      "id": "ZNM-LLYuu1dj",
      "metadata": {
        "id": "ZNM-LLYuu1dj"
      },
      "outputs": [
        {
          "name": "stdout",
          "output_type": "stream",
          "text": [
            "\n",
            "Количество вакансий для начинающих дата-сайентистов: 51\n"
          ]
        }
      ],
      "source": [
        "print(f\"\\nКоличество вакансий для начинающих дата-сайентистов: {result}\")"
      ]
    },
    {
      "cell_type": "markdown",
      "id": "eedceb80-c5ca-480e-b27a-278dfb8b4438",
      "metadata": {
        "id": "eedceb80-c5ca-480e-b27a-278dfb8b4438"
      },
      "source": [
        "3. Сколько есть вакансий для DS, в которых в качестве ключевого навыка указан SQL или postgres?\n",
        "\n",
        "** Критерии для отнесения вакансии к DS указаны в предыдущем задании.*"
      ]
    },
    {
      "cell_type": "code",
      "execution_count": 4,
      "id": "69621713-0cc5-4f1b-a1d7-bb144fa6148c",
      "metadata": {
        "id": "69621713-0cc5-4f1b-a1d7-bb144fa6148c"
      },
      "outputs": [],
      "source": [
        "query_6_3 = \"\"\"\n",
        "SELECT COUNT(*) \n",
        "FROM vacancies\n",
        "WHERE (\n",
        "    -- Data science related keywords in title\n",
        "    LOWER(name) LIKE '%data scientist%' OR\n",
        "    LOWER(name) LIKE '%data science%' OR\n",
        "    LOWER(name) LIKE '%исследователь данных%' OR\n",
        "    (LOWER(name) LIKE '%ml%' AND LOWER(name) NOT LIKE '%html%') OR\n",
        "    LOWER(name) LIKE '%machine learning%' OR\n",
        "    LOWER(name) LIKE '%машинн%обучен%'\n",
        ") AND (\n",
        "    -- SQL related skills\n",
        "    LOWER(key_skills) LIKE '%sql%' OR\n",
        "    LOWER(key_skills) LIKE '%postgres%' OR\n",
        "    LOWER(key_skills) LIKE '%postgresql%'\n",
        ");\n",
        "\"\"\"\n",
        "\n",
        "cursor = connection.cursor()\n",
        "cursor.execute(query_6_3)\n",
        "result = cursor.fetchone()[0]\n",
        "cursor.close()"
      ]
    },
    {
      "cell_type": "code",
      "execution_count": 5,
      "id": "alA8WEAAvGdf",
      "metadata": {
        "id": "alA8WEAAvGdf"
      },
      "outputs": [
        {
          "name": "stdout",
          "output_type": "stream",
          "text": [
            "\n",
            "Количество вакансий для дата-сайентистов со знанием SQL/PostgreSQL: 229\n"
          ]
        }
      ],
      "source": [
        "print(f\"\\nКоличество вакансий для дата-сайентистов со знанием SQL/PostgreSQL: {result}\")"
      ]
    },
    {
      "cell_type": "markdown",
      "id": "1be1e9c6-37cf-4a5f-bfeb-04cab799dc80",
      "metadata": {
        "id": "1be1e9c6-37cf-4a5f-bfeb-04cab799dc80"
      },
      "source": [
        "4. Проверьте, насколько популярен Python в требованиях работодателей к DS.Для этого вычислите количество вакансий, в которых в качестве ключевого навыка указан Python.\n",
        "\n",
        "** Это можно сделать помощью запроса, аналогичного предыдущему.*"
      ]
    },
    {
      "cell_type": "code",
      "execution_count": 6,
      "id": "0036a355-9ccf-4564-8b01-73d8194297e7",
      "metadata": {
        "id": "0036a355-9ccf-4564-8b01-73d8194297e7"
      },
      "outputs": [],
      "source": [
        "query_6_4 = \"\"\"\n",
        "SELECT COUNT(*) \n",
        "FROM vacancies\n",
        "WHERE (\n",
        "    -- Data science related keywords in title\n",
        "    LOWER(name) LIKE '%data scientist%' OR\n",
        "    LOWER(name) LIKE '%data science%' OR\n",
        "    LOWER(name) LIKE '%исследователь данных%' OR\n",
        "    (LOWER(name) LIKE '%ml%' AND LOWER(name) NOT LIKE '%html%') OR\n",
        "    LOWER(name) LIKE '%machine learning%' OR\n",
        "    LOWER(name) LIKE '%машинн%обучен%'\n",
        ") AND (\n",
        "    -- Python skill requirement\n",
        "    LOWER(key_skills) LIKE '%python%'\n",
        ");\n",
        "\"\"\"\n",
        "\n",
        "# Выполнение запроса\n",
        "cursor = connection.cursor()\n",
        "cursor.execute(query_6_4)\n",
        "result = cursor.fetchone()[0]\n",
        "cursor.close()"
      ]
    },
    {
      "cell_type": "code",
      "execution_count": 7,
      "id": "1i-5WyucvQ6v",
      "metadata": {
        "id": "1i-5WyucvQ6v"
      },
      "outputs": [
        {
          "name": "stdout",
          "output_type": "stream",
          "text": [
            "\n",
            "Количество вакансий для дата-сайентистов со знанием Python: 357\n"
          ]
        }
      ],
      "source": [
        "print(f\"\\nКоличество вакансий для дата-сайентистов со знанием Python: {result}\")"
      ]
    },
    {
      "cell_type": "markdown",
      "id": "ec3c8db7-fa21-4a41-a994-1af63742a642",
      "metadata": {
        "id": "ec3c8db7-fa21-4a41-a994-1af63742a642"
      },
      "source": [
        "5. Сколько ключевых навыков в среднем указывают в вакансиях для DS?\n",
        "Ответ округлите до двух знаков после точки-разделителя."
      ]
    },
    {
      "cell_type": "code",
      "execution_count": 12,
      "id": "949132bc-d5b6-4611-8218-0b9a504d74f4",
      "metadata": {
        "id": "949132bc-d5b6-4611-8218-0b9a504d74f4"
      },
      "outputs": [],
      "source": [
        "query_6_5 = \"\"\"\n",
        "SELECT\n",
        "    ROUND(AVG(LENGTH(key_skills) - LENGTH(REPLACE(key_skills, CHR(9), '')) + 1), 2) AS avg_key_skills_count\n",
        "FROM vacancies\n",
        "WHERE\n",
        "    (\n",
        "        (name ILIKE '%data scientist%')\n",
        "        OR (lower(name) ILIKE '%data science%')\n",
        "        OR (name ILIKE '%исследователь данных%')\n",
        "        OR (name LIKE '%ML%' AND (name NOT ILIKE '%html%'))\n",
        "        OR (name ILIKE '%machine learning%')\n",
        "        OR (name ILIKE '%машинн%обучен%')\n",
        "    )\n",
        "    AND key_skills IS NOT NULL;\n",
        "\"\"\"\n",
        "\n",
        "# Выполнение запроса\n",
        "cursor = connection.cursor()\n",
        "cursor.execute(query_6_5)\n",
        "results = cursor.fetchall()\n",
        "cursor.close()"
      ]
    },
    {
      "cell_type": "code",
      "execution_count": 13,
      "id": "a3V24Tvmviqk",
      "metadata": {
        "id": "a3V24Tvmviqk"
      },
      "outputs": [
        {
          "name": "stdout",
          "output_type": "stream",
          "text": [
            "6.41 ключевых навыков на вакансию.\n"
          ]
        }
      ],
      "source": [
        "avg_key_skills_count = results[0][0]\n",
        "print(f\"{avg_key_skills_count} ключевых навыков на вакансию.\")"
      ]
    },
    {
      "cell_type": "markdown",
      "id": "1041c17a-ca8f-4543-a0ca-32778914fb00",
      "metadata": {
        "id": "1041c17a-ca8f-4543-a0ca-32778914fb00"
      },
      "source": [
        "6. Напишите запрос, позволяющий вычислить, какую зарплату для DS в **среднем** указывают для каждого типа требуемого опыта (уникальное значение из поля *experience*). \n",
        "\n",
        "При решении задачи примите во внимание следующее:\n",
        "1. Рассматриваем только вакансии, у которых заполнено хотя бы одно из двух полей с зарплатой.\n",
        "2. Если заполнены оба поля с зарплатой, то считаем зарплату по каждой вакансии как сумму двух полей, делённую на 2. Если заполнено только одно из полей, то его и считаем зарплатой по вакансии.\n",
        "3. Если в расчётах участвует null, в результате он тоже даст null (посмотрите, что возвращает запрос select 1 + null). Чтобы избежать этой ситуацию, мы воспользуемся функцией [coalesce](https://postgrespro.ru/docs/postgresql/9.5/functions-conditional#functions-coalesce-nvl-ifnull), которая заменит null на значение, которое мы передадим. Например, посмотрите, что возвращает запрос `select 1 + coalesce(null, 0)`\n",
        "\n",
        "Выясните, на какую зарплату в среднем может рассчитывать дата-сайентист с опытом работы от 3 до 6 лет. Результат округлите до целого числа. "
      ]
    },
    {
      "cell_type": "code",
      "execution_count": 7,
      "id": "6a743d39-5204-48d3-8271-b9f88e68d40e",
      "metadata": {
        "id": "6a743d39-5204-48d3-8271-b9f88e68d40e"
      },
      "outputs": [],
      "source": [
        "query_6_6 = \"\"\"\n",
        "SELECT\n",
        "    v.experience,\n",
        "    ROUND(AVG(COALESCE((v.salary_from + v.salary_to) / 2, v.salary_from, v.salary_to)), 0) AS avg_salary\n",
        "FROM vacancies v\n",
        "WHERE (\n",
        "    (v.name ILIKE '%data scientist%')\n",
        "    OR (LOWER(v.name) ILIKE '%data science%')\n",
        "    OR (v.name ILIKE '%исследователь данных%')\n",
        "    OR (v.name LIKE '%ML%' AND (v.name NOT ILIKE '%html%'))\n",
        "    OR (v.name ILIKE '%machine learning%')\n",
        "    OR (v.name ILIKE '%машинн%обучен%')\n",
        ")\n",
        "AND (v.salary_from IS NOT NULL OR v.salary_to IS NOT NULL)\n",
        "GROUP BY v.experience\n",
        "ORDER BY\n",
        "    CASE v.experience\n",
        "        WHEN 'Нет опыта' THEN 1\n",
        "        WHEN 'От 1 до 3 лет' THEN 2\n",
        "        WHEN 'От 3 до 6 лет' THEN 3\n",
        "        WHEN 'Более 6 лет' THEN 4\n",
        "    END;\n",
        "\"\"\"\n",
        "\n",
        "cursor = connection.cursor()\n",
        "cursor.execute(query_6_6)\n",
        "results = cursor.fetchall()\n",
        "cursor.close()\n"
      ]
    },
    {
      "cell_type": "code",
      "execution_count": 8,
      "id": "aRIJ0mZEwU1_",
      "metadata": {
        "id": "aRIJ0mZEwU1_"
      },
      "outputs": [
        {
          "name": "stdout",
          "output_type": "stream",
          "text": [
            "\n",
            "Средняя зарплата дата-сайентистов по опыту работы:\n",
            "Опыт работы | Средняя зарплата\n",
            "-----------------------------------\n",
            " Нет опыта  |     74,643      ₽\n",
            "От 3 до 6 лет |     243,115     ₽\n",
            "От 1 года до 3 лет |     139,675     ₽\n",
            "\n",
            "Дата-сайентист с опытом работы от 3 до 6 лет может рассчитывать на среднюю зарплату: 243,115 ₽\n"
          ]
        }
      ],
      "source": [
        "print(\"\\nСредняя зарплата дата-сайентистов по опыту работы:\")\n",
        "print(\"Опыт работы | Средняя зарплата\")\n",
        "print(\"-\" * 35)\n",
        "for experience, salary in results:\n",
        "    print(f\"{experience:^11} | {salary:^15,} ₽\")\n",
        "\n",
        "# Поиск конкретного значения для опыта от 3 до 6 лет\n",
        "for experience, salary in results:\n",
        "    if experience == 'От 3 до 6 лет':\n",
        "        print(f\"\\nДата-сайентист с опытом работы от 3 до 6 лет может рассчитывать на среднюю зарплату: {salary:,} ₽\")"
      ]
    },
    {
      "cell_type": "markdown",
      "id": "6a7892b4-4113-4746-adce-18aa2844f18e",
      "metadata": {
        "id": "6a7892b4-4113-4746-adce-18aa2844f18e"
      },
      "source": [
        "***"
      ]
    },
    {
      "cell_type": "markdown",
      "id": "014aa291",
      "metadata": {},
      "source": [
        "Выводы по предметному анализу (Юнит 6)\n",
        "\n",
        "Предметный анализ вакансий Data Science позволил выявить следующие ключевые закономерности:\n",
        "\n",
        "*   **Объем рынка DS:** В базе данных присутствует 1771 вакансия, прямо или косвенно связанная с данными, что говорит о значительном, но не массовом спросе.\n",
        "*   **Доступность для новичков:** Вакансий для начинающих дата-сайентистов (Junior) довольно мало — всего 51. Это указывает на высокий порог входа в профессию или острую конкуренцию среди соискателей без опыта.\n",
        "*   **Востребованные навыки:**\n",
        "    *   **Python** является наиболее популярным ключевым навыком: 357 вакансий для DS его требуют.\n",
        "    *   **SQL/PostgreSQL** также высоко востребованы, присутствуя в 229 вакансиях для DS.\n",
        "    *   В среднем, работодатели указывают около **6.41** ключевых навыков на одну вакансию DS, что подчеркивает мультидисциплинарность и широкий спектр ожидаемых компетенций.\n",
        "*   **Зарплатные ожидания:** Зарплата дата-сайентистов значительно возрастает с опытом. Специалисты с опытом от 3 до 6 лет могут рассчитывать на среднюю зарплату **243 115 ₽**, что делает этот сегмент рынка наиболее привлекательным с финансовой точки зрения."
      ]
    },
    {
      "cell_type": "markdown",
      "id": "c0ED6fh7wiBT",
      "metadata": {
        "id": "c0ED6fh7wiBT"
      },
      "source": [
        "# Общий вывод по проекту"
      ]
    },
    {
      "cell_type": "markdown",
      "id": "1ccad787",
      "metadata": {},
      "source": [
        "\n",
        "\n",
        "---\n",
        "\n",
        "### **Каких вакансий много и почему?**\n",
        "\n",
        "Из проведенного анализа можно сделать следующие выводы о количестве вакансий:\n",
        "\n",
        "1.  **По требуемому опыту (Юнит 4, Cell 36):**\n",
        "    *   **Много вакансий для специалистов уровня Middle (1-3 года опыта) и Senior (3-6 лет опыта):** **53% и 30% соответственно**. Это составляет подавляющее большинство (**83%**) всех вакансий с указанным опытом.\n",
        "    *   **Почему так:** Рынок труда, особенно в динамичных сферах, таких как IT (где, как показал анализ, много работодателей в \"Разработке ПО\" - **3553 компании**), активно ищет уже сформировавшихся специалистов. Компании готовы инвестировать в сотрудников, которые могут самостоятельно решать задачи и приносить ценность с первого дня. Это отражает потребность в быстром закрытии позиций и минимизации затрат на обучение \"с нуля\".\n",
        "    *   **Тенденции и прогнозы:** Эта тенденция, вероятно, сохранится, так как скорость развития технологий и потребность в опытных кадрах будут только расти. Однако, для поддержания устойчивости рынка труда и притока свежих кадров, компаниям придется уделять больше внимания программам стажировок и развития Junior-специалистов, которых сейчас всего **15%**. Возможно, в будущем мы увидим рост программ менторства и инкубаторов для молодых специалистов.\n",
        "\n",
        "2.  **По графику работы и типу трудоустройства (Юнит 4, Cell 32, Cell 33):**\n",
        "    *   **Доминирует полный день и полная занятость:** Это традиционный формат работы, который по-прежнему является стандартом для большинства компаний.\n",
        "    *   **Растущий тренд удаленной работы (**16%**):** **16% вакансий на удаленке** — это значительная доля, особенно учитывая общий объем рынка.\n",
        "    *   **Почему так:** Пандемия COVID-19 ускорила переход к удаленной работе, и многие компании осознали ее преимущества (доступ к более широкому пулу талантов, снижение офисных расходов). Полный день остается популярным для позиций, требующих тесного взаимодействия в команде или доступа к специфическому оборудованию.\n",
        "    *   **Тенденции и прогнозы:** Доля удаленных вакансий, вероятно, будет продолжать расти, но не доминировать полностью. Мы можем ожидать увеличения **гибридных моделей работы**, сочетающих офисную и удаленную занятость, как компромисс между гибкостью и необходимостью личного взаимодействия. Компании будут активно инвестировать в инструменты для удаленной и гибридной работы.\n",
        "\n",
        "---\n",
        "\n",
        "### **Что можно сказать о рынке труда в различных городах?**\n",
        "\n",
        "Анализ географического распределения вакансий и работодателей дает четкую картину:\n",
        "\n",
        "1.  **Централизация в крупных городах (Юнит 4, Cell 23; Юнит 5, Cell 60, Cell 62):**\n",
        "    *   **Москва и Санкт-Петербург — безусловные лидеры:** На них приходится около **60% всех вакансий** в топ-10 регионах. Это объясняется концентрацией головных офисов крупных компаний, развитой инфраструктурой, доступом к инвестициям и большим количеством квалифицированных кадров.\n",
        "    *   **Другие города-миллионники:** Минск, Новосибирск, Алматы, Екатеринбург также являются значимыми региональными центрами с активным рынком труда.\n",
        "    *   **Вакансии Яндекса:** Показательный пример концентрации — около **75% вакансий Яндекса находятся *вне* городов-миллионников**, что говорит о широкой региональной сети компании, но при этом города-миллионники по-прежнему важны (**25%**).\n",
        "    *   **Почему так:** Крупные города являются экономическими и инновационными хабами. Здесь сосредоточены основные потребители услуг, производственные мощности, и, как следствие, спрос на рабочую силу. Развитая система высшего образования в этих городах также обеспечивает постоянный приток молодых специалистов.\n",
        "    *   **Тенденции и прогнозы:** Хотя удаленная работа может способствовать децентрализации, **крупные города останутся основными центрами притяжения** для бизнеса и талантов. Однако, региональные центры будут активно развиваться, становясь привлекательными для компаний, ищущих более доступные ресурсы и меньшую конкуренцию за кадры. Правительства регионов могут стимулировать этот процесс, предлагая налоговые льготы и развивая инфраструктуру.\n",
        "\n",
        "2.  **\"Регионы без вакансий, но с работодателями\" (Юнит 5, Cell 45):**\n",
        "    *   **Существование таких регионов:** Есть регионы, где зарегистрировано значительное количество работодателей, но при этом отсутствуют открытые вакансии (например, \"**Россия**\" - **410 работодателей**).\n",
        "    *   **Почему так:** Это может быть связано с несколькими факторами:\n",
        "        *   **Юридическая регистрация:** Компании могут быть зарегистрированы в регионе по юридическим или налоговым причинам, но их операционная деятельность сосредоточена в других местах.\n",
        "        *   **Малый бизнес/ИП:** Множество индивидуальных предпринимателей или очень малых компаний могут не размещать вакансии на HeadHunter, так как нанимают сотрудников по знакомству или через другие каналы.\n",
        "        *   **Неактивные компании:** Компании могут быть формально зарегистрированы, но фактически не вести активную деятельность или находиться в стадии ликвидации/перерегистрации.\n",
        "    *   **Тенденции и прогнозы:** Эта ситуация, скорее всего, является устойчивой характеристикой рынка. Однако, для более точного анализа, можно было бы провести дополнительное исследование этих \"неактивных\" работодателей.\n",
        "\n",
        "---\n",
        "\n",
        "### **Какие ещё интересные исследования можно провести?**\n",
        "\n",
        "1.  **Анализ зарплатной вилки по различным параметрам:**\n",
        "    *   **Расширенный анализ зарплат:** Учитывая, что **50% вакансий не содержат информации о зарплате**, можно попробовать разработать модель для **предсказания зарплат** на основе других параметров вакансии (опыт, регион, индустрия, ключевые слова в описании). Это позволит получить более полную картину рынка и предложить рекомендации по средней зарплате для конкретных позиций.\n",
        "    *   **Детализация по индустриям и опыту:** Как меняется средняя зарплата в зависимости от индустрии и требуемого опыта? Это поможет кандидатам лучше понимать свою рыночную стоимость, а компаниям — формировать конкурентные предложения.\n",
        "\n",
        "2.  **Анализ ключевых навыков и технологий:**\n",
        "    *   **Извлечение навыков из описаний вакансий:** Если бы у нас был доступ к полным описаниям вакансий, можно было бы провести текстовый анализ для **выявления наиболее востребованных навыков и технологий**. Это было бы крайне полезно для образовательных учреждений, соискателей и компаний, формирующих свои команды.\n",
        "    *   **Тренды востребованности навыков:** Отслеживание изменений в спросе на определенные навыки со временем позволило бы прогнозировать развитие рынка труда.\n",
        "\n",
        "3.  **Детальный анализ \"проблемных\" данных:**\n",
        "    *   **Исследование работодателей без указанной сферы деятельности (**8419 компаний**):** Попытаться классифицировать этих работодателей (например, по названию, по другим имеющимся атрибутам) или найти источники, которые могли бы предоставить эту информацию. Это позволит улучшить качество данных и сделать более точный отраслевой анализ.\n",
        "    *   **Категоризация сфер деятельности:** Объединение дублирующихся и редких сфер деятельности (\"IT\" и \"Информационные технологии\") для более точного анализа.\n",
        "\n",
        "4.  **Взаимосвязь между количеством вакансий и уровнем конкуренции:**\n",
        "    *   **Анализ конкуренции:** Сопоставить количество вакансий в регионе/индустрии с количеством резюме по аналогичным специализациям. Это позволит оценить уровень конкуренции на рынке труда для конкретных ролей.\n",
        "\n",
        "5.  **Анализ времени жизни вакансий:**\n",
        "    *   **Как долго вакансии остаются открытыми?** Это может указывать на дефицит специалистов в определенных областях или, наоборот, на перенасыщение рынка.\n",
        "\n",
        "---\n",
        "\n",
        "### **Общие рассуждения и умозаключения:**\n",
        "\n",
        "*   **Динамичность рынка:** Рынок труда, как показал анализ, очень динамичен. Технологии быстро меняются, и вместе с ними меняются требования к специалистам. Это требует **постоянного обучения и адаптации** как от соискателей, так и от работодателей.\n",
        "*   **Важность данных:** Качество и полнота данных играют ключевую роль в точности анализа. Проблемы с отсутствием зарплатной вилки или указанной сферы деятельности у работодателей значительно усложняют полную картину рынка. **Инвестиции в обогащение и очистку данных** могли бы существенно улучшить качество аналитики.\n",
        "*   **Региональные дисбалансы:** Явное доминирование крупных городов создает региональные дисбалансы. Это может приводить к \"**утечке мозгов**\" из менее развитых регионов и усилению конкуренции в мегаполисах. Государственные и региональные программы могут сыграть роль в стимулировании создания рабочих мест в регионах.\n",
        "*   **Перспективы роста:** Несмотря на вызовы, рынок труда в России демонстрирует значительную активность, особенно в сфере IT и технологий. Это открывает большие возможности для специалистов с соответствующими навыками.\n",
        "\n",
        "В целом, представленный Jupyter Notebook является хорошей отправной точкой для анализа рынка труда. Однако, для получения более глубоких и предсказательных выводов, необходимо дополнительное исследование данных, включая их очистку, обогащение и применение более сложных аналитических методов."
      ]
    }
  ],
  "metadata": {
    "colab": {
      "collapsed_sections": [
        "8d62a9f3-f64e-4fe7-bdac-c4dffa16155e"
      ],
      "provenance": []
    },
    "kernelspec": {
      "display_name": "Python 3",
      "language": "python",
      "name": "python3"
    },
    "language_info": {
      "codemirror_mode": {
        "name": "ipython",
        "version": 3
      },
      "file_extension": ".py",
      "mimetype": "text/x-python",
      "name": "python",
      "nbconvert_exporter": "python",
      "pygments_lexer": "ipython3",
      "version": "3.10.6"
    }
  },
  "nbformat": 4,
  "nbformat_minor": 5
}
