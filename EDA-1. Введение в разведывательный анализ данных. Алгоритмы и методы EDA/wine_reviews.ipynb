{
 "cells": [
  {
   "cell_type": "markdown",
   "metadata": {},
   "source": [
    "После просмотра документального фильма о сомелье вы захотели создать прогностическую модель для оценки вин вслепую, как это делает сомелье."
   ]
  },
  {
   "cell_type": "markdown",
   "metadata": {},
   "source": [
    "country — страна-производитель вина.\n",
    "\n",
    "description — подробное описание.\n",
    "\n",
    "designation — название виноградника, где выращивают виноград для вина.\n",
    "\n",
    "points — баллы, которыми WineEnthusiast оценил вино по шкале от 1 до 100.\n",
    "\n",
    "price — стоимость бутылки вина.\n",
    "\n",
    "province — провинция или штат.\n",
    "\n",
    "region_1 — винодельческий район в провинции или штате (например Напа).\n",
    "\n",
    "region_2 — конкретный регион. Иногда в пределах винодельческой зоны указываются более конкретные регионы (например Резерфорд в долине Напа), но это значение может быть пустым.\n",
    "\n",
    "taster_name — имя сомелье.\n",
    "\n",
    "taster_twitter_handle — твиттер сомелье.\n",
    "\n",
    "title — название вина, которое часто содержит год и другую подробную информацию.\n",
    "\n",
    "variety — сорт винограда, из которого изготовлено вино (например Пино Нуар).\n",
    "\n",
    "winery — винодельня, которая производила вино."
   ]
  },
  {
   "cell_type": "markdown",
   "metadata": {},
   "source": []
  },
  {
   "cell_type": "code",
   "execution_count": 10,
   "metadata": {},
   "outputs": [],
   "source": [
    "import pandas as pd"
   ]
  },
  {
   "cell_type": "code",
   "execution_count": 11,
   "metadata": {},
   "outputs": [
    {
     "name": "stdout",
     "output_type": "stream",
     "text": [
      "    country                                        description  \\\n",
      "0     Italy  Aromas include tropical fruit, broom, brimston...   \n",
      "1  Portugal  This is ripe and fruity, a wine that is smooth...   \n",
      "2        US  Tart and snappy, the flavors of lime flesh and...   \n",
      "3        US  Pineapple rind, lemon pith and orange blossom ...   \n",
      "4        US  Much like the regular bottling from 2012, this...   \n",
      "\n",
      "                          designation  points  price           province  \\\n",
      "0                        Vulkà Bianco      87    NaN  Sicily & Sardinia   \n",
      "1                            Avidagos      87   15.0              Douro   \n",
      "2                                 NaN      87   14.0             Oregon   \n",
      "3                Reserve Late Harvest      87   13.0           Michigan   \n",
      "4  Vintner's Reserve Wild Child Block      87   65.0             Oregon   \n",
      "\n",
      "              region_1           region_2         taster_name  \\\n",
      "0                 Etna                NaN       Kerin O’Keefe   \n",
      "1                  NaN                NaN          Roger Voss   \n",
      "2    Willamette Valley  Willamette Valley        Paul Gregutt   \n",
      "3  Lake Michigan Shore                NaN  Alexander Peartree   \n",
      "4    Willamette Valley  Willamette Valley        Paul Gregutt   \n",
      "\n",
      "  taster_twitter_handle                                              title  \\\n",
      "0          @kerinokeefe                  Nicosia 2013 Vulkà Bianco  (Etna)   \n",
      "1            @vossroger      Quinta dos Avidagos 2011 Avidagos Red (Douro)   \n",
      "2           @paulgwine       Rainstorm 2013 Pinot Gris (Willamette Valley)   \n",
      "3                   NaN  St. Julian 2013 Reserve Late Harvest Riesling ...   \n",
      "4           @paulgwine   Sweet Cheeks 2012 Vintner's Reserve Wild Child...   \n",
      "\n",
      "          variety               winery  \n",
      "0     White Blend              Nicosia  \n",
      "1  Portuguese Red  Quinta dos Avidagos  \n",
      "2      Pinot Gris            Rainstorm  \n",
      "3        Riesling           St. Julian  \n",
      "4      Pinot Noir         Sweet Cheeks  \n",
      "<class 'pandas.core.frame.DataFrame'>\n",
      "RangeIndex: 129971 entries, 0 to 129970\n",
      "Data columns (total 13 columns):\n",
      " #   Column                 Non-Null Count   Dtype  \n",
      "---  ------                 --------------   -----  \n",
      " 0   country                129908 non-null  object \n",
      " 1   description            129971 non-null  object \n",
      " 2   designation            92506 non-null   object \n",
      " 3   points                 129971 non-null  int64  \n",
      " 4   price                  120975 non-null  float64\n",
      " 5   province               129908 non-null  object \n",
      " 6   region_1               108724 non-null  object \n",
      " 7   region_2               50511 non-null   object \n",
      " 8   taster_name            103727 non-null  object \n",
      " 9   taster_twitter_handle  98758 non-null   object \n",
      " 10  title                  129971 non-null  object \n",
      " 11  variety                129970 non-null  object \n",
      " 12  winery                 129971 non-null  object \n",
      "dtypes: float64(1), int64(1), object(11)\n",
      "memory usage: 12.9+ MB\n",
      "None\n",
      "              points          price\n",
      "count  129971.000000  120975.000000\n",
      "mean       88.447138      35.363389\n",
      "std         3.039730      41.022218\n",
      "min        80.000000       4.000000\n",
      "25%        86.000000      17.000000\n",
      "50%        88.000000      25.000000\n",
      "75%        91.000000      42.000000\n",
      "max       100.000000    3300.000000\n",
      "country                     63\n",
      "description                  0\n",
      "designation              37465\n",
      "points                       0\n",
      "price                     8996\n",
      "province                    63\n",
      "region_1                 21247\n",
      "region_2                 79460\n",
      "taster_name              26244\n",
      "taster_twitter_handle    31213\n",
      "title                        0\n",
      "variety                      1\n",
      "winery                       0\n",
      "dtype: int64\n"
     ]
    }
   ],
   "source": [
    "data = pd.read_csv('data/wine.csv')\n",
    "\n",
    "print(data.head())\n",
    "\n",
    "print(data.info())\n",
    "\n",
    "print(data.describe())\n",
    "\n",
    "print(data.isnull().sum())"
   ]
  },
  {
   "cell_type": "code",
   "execution_count": 12,
   "metadata": {},
   "outputs": [
    {
     "name": "stdout",
     "output_type": "stream",
     "text": [
      "Всего уникальных дегустаторов: 19\n"
     ]
    }
   ],
   "source": [
    "print(f\"Всего уникальных дегустаторов: {data['taster_name'].nunique()}\")"
   ]
  },
  {
   "cell_type": "code",
   "execution_count": 13,
   "metadata": {},
   "outputs": [
    {
     "name": "stdout",
     "output_type": "stream",
     "text": [
      "Максимальная цена за бутылку: 3300\n"
     ]
    }
   ],
   "source": [
    "print(f\"Максимальная цена за бутылку: {int(data['price'].max())}\")"
   ]
  },
  {
   "cell_type": "code",
   "execution_count": 14,
   "metadata": {},
   "outputs": [
    {
     "name": "stdout",
     "output_type": "stream",
     "text": [
      "Числовые признаки: points, price\n"
     ]
    }
   ],
   "source": [
    "numerical_features = data.select_dtypes(include=['number']).columns.tolist()\n",
    "print(f\"Числовые признаки: {', '.join(numerical_features)}\")"
   ]
  },
  {
   "cell_type": "code",
   "execution_count": 15,
   "metadata": {},
   "outputs": [
    {
     "name": "stdout",
     "output_type": "stream",
     "text": [
      "Обнаружено и удалено дублирующихся записей: 9983\n"
     ]
    }
   ],
   "source": [
    "initial_rows = data.shape[0]\n",
    "data.drop_duplicates(inplace=True)\n",
    "rows_after_deduplication = data.shape[0]\n",
    "duplicates_found = initial_rows - rows_after_deduplication\n",
    "print(f\"Обнаружено и удалено дублирующихся записей: {duplicates_found}\")"
   ]
  },
  {
   "cell_type": "markdown",
   "metadata": {},
   "source": [
    "Обработайте пропущенные значения в наборе данных любым известным вам способом."
   ]
  },
  {
   "cell_type": "code",
   "execution_count": 16,
   "metadata": {},
   "outputs": [
    {
     "name": "stdout",
     "output_type": "stream",
     "text": [
      "Количество пропущенных значений после обработки:\n",
      "country                  0\n",
      "description              0\n",
      "points                   0\n",
      "price                    0\n",
      "province                 0\n",
      "region_1                 0\n",
      "taster_name              0\n",
      "taster_twitter_handle    0\n",
      "title                    0\n",
      "variety                  0\n",
      "winery                   0\n",
      "dtype: int64\n"
     ]
    }
   ],
   "source": [
    "# Удаление столбцов с большим количеством пропусков\n",
    "data.drop(['designation', 'region_2'], axis=1, inplace=True)\n",
    "\n",
    "# Заполнение пропусков в числовом признаке 'price'\n",
    "data['price'] = data['price'].fillna(-1)\n",
    "\n",
    "# Заполнение пропусков в категориальных признаках\n",
    "categorical_cols_to_fill = ['country', 'province', 'region_1', 'taster_name', 'taster_twitter_handle', 'variety']\n",
    "for col in categorical_cols_to_fill:\n",
    "    data[col] = data[col].fillna('unknown')\n",
    "\n",
    "# Проверка, остались ли пропуски\n",
    "print(\"Количество пропущенных значений после обработки:\")\n",
    "print(data.isnull().sum())"
   ]
  },
  {
   "cell_type": "code",
   "execution_count": 17,
   "metadata": {},
   "outputs": [],
   "source": [
    "# data = data.to_csv('data/wine_cleared_my.csv', index=False) # сохраняем очищенный датасет для дальнейшей работы"
   ]
  },
  {
   "cell_type": "code",
   "execution_count": 19,
   "metadata": {},
   "outputs": [
    {
     "data": {
      "text/html": [
       "\n",
       "        <iframe\n",
       "            width=\"100%\"\n",
       "            height=\"475\"\n",
       "            src=\"http://Rigel:40000/dtale/iframe/3\"\n",
       "            frameborder=\"0\"\n",
       "            allowfullscreen\n",
       "            \n",
       "        ></iframe>\n",
       "        "
      ],
      "text/plain": [
       "<IPython.lib.display.IFrame at 0x15f9732a020>"
      ]
     },
     "metadata": {},
     "output_type": "display_data"
    },
    {
     "data": {
      "text/plain": []
     },
     "execution_count": 19,
     "metadata": {},
     "output_type": "execute_result"
    }
   ],
   "source": [
    "import dtale\n",
    "import pandas as pd\n",
    "\n",
    "# Предполагается, что ваш DataFrame называется 'data'\n",
    "# Если это не так, замените 'data' на имя вашего DataFrame\n",
    "dtale.show(data)"
   ]
  }
 ],
 "metadata": {
  "kernelspec": {
   "display_name": "Python 3",
   "language": "python",
   "name": "python3"
  },
  "language_info": {
   "codemirror_mode": {
    "name": "ipython",
    "version": 3
   },
   "file_extension": ".py",
   "mimetype": "text/x-python",
   "name": "python",
   "nbconvert_exporter": "python",
   "pygments_lexer": "ipython3",
   "version": "3.10.6"
  }
 },
 "nbformat": 4,
 "nbformat_minor": 2
}
